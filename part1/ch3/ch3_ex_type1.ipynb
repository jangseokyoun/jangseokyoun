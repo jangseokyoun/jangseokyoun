{
  "nbformat": 4,
  "nbformat_minor": 0,
  "metadata": {
    "colab": {
      "provenance": []
    },
    "kernelspec": {
      "name": "python3",
      "display_name": "Python 3"
    },
    "language_info": {
      "name": "python"
    }
  },
  "cells": [
    {
      "cell_type": "markdown",
      "source": [
        "[구글 코랩(Colab)에서 실행하기](https://colab.research.google.com/github/lovedlim/bigdata_analyst_cert_v2/blob/main/part1/ch3/ch3_ex_type1.ipynb)"
      ],
      "metadata": {
        "id": "g7CyV-X4r6S2"
      }
    },
    {
      "cell_type": "markdown",
      "source": [
        "- [안내] FutureWarning은 무시해도 됨"
      ],
      "metadata": {
        "id": "H9jnQdrYtQRC"
      }
    },
    {
      "cell_type": "code",
      "source": [
        "# 흔히 발생하는 FutureWarning\n",
        "# df['views'].fillna(min, inplace=True)  # 변경 전 (경고 발생 가능)\n",
        "# df['views'] = df['views'].fillna(min)  # 변경 후 (권장 방식)"
      ],
      "metadata": {
        "id": "z42dqPtZi7I5"
      },
      "execution_count": null,
      "outputs": []
    },
    {
      "cell_type": "markdown",
      "source": [
        "### Section1."
      ],
      "metadata": {
        "id": "fyetqPi1ngy-"
      }
    },
    {
      "cell_type": "code",
      "source": [
        "import pandas as pd\n",
        "df= pd.read_csv('https://raw.githubusercontent.com/lovedlim/bigdata_analyst_cert/main/part1/ch3/type1_data1.csv')\n",
        "import warnings\n",
        "warnings.filterwarnings('ignore')\n",
        "df.shape\n",
        "df.head()\n",
        "cond= df['f5']!=0\n",
        "df=df[cond]\n",
        "min=df['views'].min()\n",
        "df['views'].fillna(min, inplace=True)\n",
        "int(df['views'].median())\n",
        "\n",
        "\n",
        "df3 = df.copy()              # df1 전체 복사\n",
        "df3['views'] = df3['views'].astype(float)   # views 컬럼만 float으로 변환\n",
        "# df3"
      ],
      "metadata": {
        "id": "4OHBl6PQW-Yh"
      },
      "execution_count": 57,
      "outputs": []
    },
    {
      "cell_type": "code",
      "source": [
        "import pandas as pd\n",
        "# df = pd.read_csv(\"type1_data1.csv\")\n",
        "df = pd.read_csv(\"https://raw.githubusercontent.com/lovedlim/bigdata_analyst_cert/main/part1/ch3/type1_data1.csv\")\n",
        "\n",
        "# 0 제외\n",
        "cond = df['f5'] != 0\n",
        "df = df[cond]\n",
        "\n",
        "# 'views' 컬럼 결측치 최소값으로 채우기\n",
        "min = df['views'].min()\n",
        "df['views'].fillna(min, inplace=True)\n",
        "\n",
        "# 'views' 컬럼 중앙값 계산\n",
        "print(int(df['views'].median()))"
      ],
      "metadata": {
        "colab": {
          "base_uri": "https://localhost:8080/"
        },
        "id": "dIoPqGGwnhzJ",
        "outputId": "132aa071-4c25-4b21-9dc5-caed4e5e56ea"
      },
      "execution_count": null,
      "outputs": [
        {
          "output_type": "stream",
          "name": "stdout",
          "text": [
            "5924\n"
          ]
        },
        {
          "output_type": "stream",
          "name": "stderr",
          "text": [
            "<ipython-input-74-e1b822c3283c>:11: FutureWarning: A value is trying to be set on a copy of a DataFrame or Series through chained assignment using an inplace method.\n",
            "The behavior will change in pandas 3.0. This inplace method will never work because the intermediate object on which we are setting values always behaves as a copy.\n",
            "\n",
            "For example, when doing 'df[col].method(value, inplace=True)', try using 'df.method({col: value}, inplace=True)' or df[col] = df[col].method(value) instead, to perform the operation inplace on the original object.\n",
            "\n",
            "\n",
            "  df['views'].fillna(min, inplace=True)\n"
          ]
        }
      ]
    },
    {
      "cell_type": "code",
      "source": [
        "# FutureWarning 해결 버전\n",
        "import pandas as pd\n",
        "# df = pd.read_csv(\"type1_data1.csv\")\n",
        "df = pd.read_csv(\"https://raw.githubusercontent.com/lovedlim/bigdata_analyst_cert/main/part1/ch3/type1_data1.csv\")\n",
        "\n",
        "# 0 제외\n",
        "cond = df['f5'] != 0\n",
        "df = df[cond]\n",
        "\n",
        "# 'views' 컬럼 결측치 최소값으로 채우기\n",
        "min = df['views'].min()\n",
        "df['views'] = df['views'].fillna(min)\n",
        "\n",
        "# 'views' 컬럼 중앙값 계산\n",
        "print(int(df['views'].median()))"
      ],
      "metadata": {
        "colab": {
          "base_uri": "https://localhost:8080/"
        },
        "id": "QcQOQ_q_pj4Y",
        "outputId": "b294f6ad-fd7a-414f-b08b-1b50d78abc1d"
      },
      "execution_count": null,
      "outputs": [
        {
          "output_type": "stream",
          "name": "stdout",
          "text": [
            "5924\n"
          ]
        }
      ]
    },
    {
      "cell_type": "markdown",
      "source": [
        "### Section2."
      ],
      "metadata": {
        "id": "_bsCOCjZqK6b"
      }
    },
    {
      "cell_type": "code",
      "source": [
        "# df = pd.read_csv(\"type1_data1.csv\")\n",
        "df = pd.read_csv(\"https://raw.githubusercontent.com/lovedlim/bigdata_analyst_cert/main/part1/ch3/type1_data1.csv\")\n",
        "\n",
        "# subscribed 종류 중 가장 많은 날짜 구하기\n",
        "df = df['subscribed'].value_counts()\n",
        "\n",
        "# 일(day)값을 찾고, 정수형으로 변경\n",
        "int(df.index[0][-2:])"
      ],
      "metadata": {
        "colab": {
          "base_uri": "https://localhost:8080/"
        },
        "id": "QhA96ADRqLDJ",
        "outputId": "f091678f-90e8-46fa-de2c-f15a979ee69a"
      },
      "execution_count": null,
      "outputs": [
        {
          "output_type": "execute_result",
          "data": {
            "text/plain": [
              "17"
            ]
          },
          "metadata": {},
          "execution_count": 76
        }
      ]
    },
    {
      "cell_type": "code",
      "source": [
        "df = pd.read_csv(\"https://raw.githubusercontent.com/lovedlim/bigdata_analyst_cert/main/part1/ch3/type1_data1.csv\")\n",
        "df['subscribed'].mode()"
      ],
      "metadata": {
        "id": "8ZqnTZlvfB8Z",
        "outputId": "16783069-e8f3-423f-aeb0-86c4b0e02f27",
        "colab": {
          "base_uri": "https://localhost:8080/",
          "height": 115
        }
      },
      "execution_count": 61,
      "outputs": [
        {
          "output_type": "execute_result",
          "data": {
            "text/plain": [
              "0    2025-02-17\n",
              "Name: subscribed, dtype: object"
            ],
            "text/html": [
              "<div>\n",
              "<style scoped>\n",
              "    .dataframe tbody tr th:only-of-type {\n",
              "        vertical-align: middle;\n",
              "    }\n",
              "\n",
              "    .dataframe tbody tr th {\n",
              "        vertical-align: top;\n",
              "    }\n",
              "\n",
              "    .dataframe thead th {\n",
              "        text-align: right;\n",
              "    }\n",
              "</style>\n",
              "<table border=\"1\" class=\"dataframe\">\n",
              "  <thead>\n",
              "    <tr style=\"text-align: right;\">\n",
              "      <th></th>\n",
              "      <th>subscribed</th>\n",
              "    </tr>\n",
              "  </thead>\n",
              "  <tbody>\n",
              "    <tr>\n",
              "      <th>0</th>\n",
              "      <td>2025-02-17</td>\n",
              "    </tr>\n",
              "  </tbody>\n",
              "</table>\n",
              "</div><br><label><b>dtype:</b> object</label>"
            ]
          },
          "metadata": {},
          "execution_count": 61
        }
      ]
    },
    {
      "cell_type": "code",
      "source": [
        "df1=df['subscribed'].value_counts()\n",
        "print(df1)\n",
        "int(df1.index[0][-2:])"
      ],
      "metadata": {
        "id": "kXgipGOsgL-H",
        "outputId": "dd15fd52-75a1-4ea3-c7e6-d6f99808421c",
        "colab": {
          "base_uri": "https://localhost:8080/"
        }
      },
      "execution_count": 71,
      "outputs": [
        {
          "output_type": "stream",
          "name": "stdout",
          "text": [
            "subscribed\n",
            "2025-02-17    16\n",
            "2024-06-21     3\n",
            "2024-07-16     2\n",
            "2024-04-03     2\n",
            "2024-02-09     2\n",
            "              ..\n",
            "2024-05-06     1\n",
            "2024-10-02     1\n",
            "2024-12-02     1\n",
            "2025-01-29     1\n",
            "2025-01-30     1\n",
            "Name: count, Length: 96, dtype: int64\n"
          ]
        },
        {
          "output_type": "execute_result",
          "data": {
            "text/plain": [
              "17"
            ]
          },
          "metadata": {},
          "execution_count": 71
        }
      ]
    },
    {
      "cell_type": "markdown",
      "source": [
        "### Section3."
      ],
      "metadata": {
        "id": "009FIr1kqNp1"
      }
    },
    {
      "cell_type": "code",
      "source": [
        "import pandas as pd\n",
        "# df = pd.read_csv(\"type1_data1.csv\")\n",
        "df = pd.read_csv(\"https://raw.githubusercontent.com/lovedlim/bigdata_analyst_cert/main/part1/ch3/type1_data1.csv\")\n",
        "\n",
        "# 결측치 제거\n",
        "df = df.dropna()\n",
        "\n",
        "# 새로운 컬럼 계산\n",
        "df['new'] = df['views']/df['f1']\n",
        "\n",
        "# 내림차순 정렬\n",
        "df = df.sort_values('new', ascending=False)\n",
        "\n",
        "# age 값 찾아서 출력\n",
        "int(df.iloc[0,1])"
      ],
      "metadata": {
        "colab": {
          "base_uri": "https://localhost:8080/"
        },
        "id": "JE3-zjc1qQTU",
        "outputId": "d8565483-83ef-4987-b98c-67e87908bd77"
      },
      "execution_count": null,
      "outputs": [
        {
          "output_type": "execute_result",
          "data": {
            "text/plain": [
              "22"
            ]
          },
          "metadata": {},
          "execution_count": 77
        }
      ]
    },
    {
      "cell_type": "code",
      "source": [
        "df = pd.read_csv(\"https://raw.githubusercontent.com/lovedlim/bigdata_analyst_cert/main/part1/ch3/type1_data1.csv\")\n",
        "# print(df.info())\n",
        "df1=df.dropna()\n",
        "print(df1.isnull().sum())\n",
        "# df1.info()\n",
        "df1['add_col']=df1['views']/df1['f1']\n",
        "# df1['add_col'].max()\n",
        "# cond=df1['add_col']==423.7826086956522\n",
        "# df1[cond]\n",
        "\n",
        "df2=df1.sort_values('add_col', ascending=False)\n",
        "int(df2.iloc[0,1])"
      ],
      "metadata": {
        "id": "_kK6fzpshsKW",
        "outputId": "1cf229f0-ca12-4748-e6ed-95ab6c566f69",
        "colab": {
          "base_uri": "https://localhost:8080/"
        }
      },
      "execution_count": 91,
      "outputs": [
        {
          "output_type": "stream",
          "name": "stdout",
          "text": [
            "id            0\n",
            "age           0\n",
            "city          0\n",
            "f1            0\n",
            "f2            0\n",
            "f3            0\n",
            "f4            0\n",
            "f5            0\n",
            "subscribed    0\n",
            "views         0\n",
            "dtype: int64\n"
          ]
        },
        {
          "output_type": "execute_result",
          "data": {
            "text/plain": [
              "22"
            ]
          },
          "metadata": {},
          "execution_count": 91
        }
      ]
    },
    {
      "cell_type": "markdown",
      "source": [
        "### Section4."
      ],
      "metadata": {
        "id": "O_vJrS85qQzo"
      }
    },
    {
      "cell_type": "code",
      "source": [
        "import pandas as pd\n",
        "# df = pd.read_csv(\"type1_data1.csv\")\n",
        "df = pd.read_csv(\"https://raw.githubusercontent.com/lovedlim/bigdata_analyst_cert/main/part1/ch3/type1_data1.csv\")\n",
        "\n",
        "# 결측 데이터 0으로 대체\n",
        "df['views'].fillna(0, inplace=True)\n",
        "\n",
        "# 내림차순 정렬\n",
        "df = df.sort_values('views',ascending=False)\n",
        "\n",
        "# views 상위 10개 데이터에 최소값 대입\n",
        "views_min = df.iloc[:10]['views'].min()\n",
        "df.iloc[:10, -1] = views_min\n",
        "\n",
        "# views 컬럼의 합\n",
        "print(int(df['views'].sum()))"
      ],
      "metadata": {
        "colab": {
          "base_uri": "https://localhost:8080/"
        },
        "id": "3n2tsh8HqSUU",
        "outputId": "a48fdd37-5b43-4b81-a5e4-bd59b4141ef3"
      },
      "execution_count": null,
      "outputs": [
        {
          "output_type": "stream",
          "name": "stdout",
          "text": [
            "652812\n"
          ]
        },
        {
          "output_type": "stream",
          "name": "stderr",
          "text": [
            "<ipython-input-78-e59d670d0956>:6: FutureWarning: A value is trying to be set on a copy of a DataFrame or Series through chained assignment using an inplace method.\n",
            "The behavior will change in pandas 3.0. This inplace method will never work because the intermediate object on which we are setting values always behaves as a copy.\n",
            "\n",
            "For example, when doing 'df[col].method(value, inplace=True)', try using 'df.method({col: value}, inplace=True)' or df[col] = df[col].method(value) instead, to perform the operation inplace on the original object.\n",
            "\n",
            "\n",
            "  df['views'].fillna(0, inplace=True)\n"
          ]
        }
      ]
    },
    {
      "cell_type": "code",
      "source": [
        "df = pd.read_csv(\"https://raw.githubusercontent.com/lovedlim/bigdata_analyst_cert/main/part1/ch3/type1_data1.csv\")\n",
        "df['views'].fillna(0, inplace=True)\n",
        "\n",
        "value=df['views'].nlargest(10).iloc[-1]\n",
        "value\n",
        "\n",
        "df.loc[df['views']>value, 'views'] =value\n",
        "df['views'].sum()\n"
      ],
      "metadata": {
        "id": "jLY93o3XknPB",
        "outputId": "48418b85-cbc7-4ada-942d-241dfb709b0e",
        "colab": {
          "base_uri": "https://localhost:8080/"
        }
      },
      "execution_count": 133,
      "outputs": [
        {
          "output_type": "execute_result",
          "data": {
            "text/plain": [
              "np.float64(652812.0)"
            ]
          },
          "metadata": {},
          "execution_count": 133
        }
      ]
    },
    {
      "cell_type": "code",
      "source": [
        "# FutureWarning 해결 버전\n",
        "import pandas as pd\n",
        "# df = pd.read_csv(\"type1_data1.csv\")\n",
        "df = pd.read_csv(\"https://raw.githubusercontent.com/lovedlim/bigdata_analyst_cert/main/part1/ch3/type1_data1.csv\")\n",
        "\n",
        "# 결측 데이터 0으로 대체\n",
        "df['views'] = df['views'].fillna(0)\n",
        "\n",
        "# 내림차순 정렬\n",
        "df = df.sort_values('views',ascending=False)\n",
        "\n",
        "# views 상위 10개 데이터에 최소값 대입\n",
        "views_min = df.iloc[:10]['views'].min()\n",
        "df.iloc[:10, -1] = views_min\n",
        "\n",
        "# views 컬럼의 합\n",
        "print(int(df['views'].sum()))"
      ],
      "metadata": {
        "colab": {
          "base_uri": "https://localhost:8080/"
        },
        "id": "gUkXspCzpyhQ",
        "outputId": "a1ebdb34-bc9a-4e8f-908b-b97266c08d68"
      },
      "execution_count": null,
      "outputs": [
        {
          "output_type": "stream",
          "name": "stdout",
          "text": [
            "652812\n"
          ]
        }
      ]
    },
    {
      "cell_type": "code",
      "source": [
        "import pandas as pd\n",
        "# df = pd.read_csv(\"type1_data1.csv\")\n",
        "df = pd.read_csv(\"https://raw.githubusercontent.com/lovedlim/bigdata_analyst_cert/main/part1/ch3/type1_data1.csv\")\n",
        "\n",
        "# 결측 데이터 0으로 대체\n",
        "df['views'].fillna(0, inplace=True)\n",
        "\n",
        "# views 컬럼에서 10번째로 큰 값을 구합니다.\n",
        "value = df['views'].nlargest(10).iloc[-1]\n",
        "\n",
        "# views 컬럼에서 가장 큰 10개의 값을 10번째로 큰 값으로 대체\n",
        "df.loc[df['views'] > value, 'views'] = value\n",
        "\n",
        "# views 컬럼의 합\n",
        "print(int(df['views'].sum()))"
      ],
      "metadata": {
        "colab": {
          "base_uri": "https://localhost:8080/"
        },
        "id": "PITWFa67OhyE",
        "outputId": "fb2a6efb-7291-465e-bdf4-5d05fdfbb091"
      },
      "execution_count": null,
      "outputs": [
        {
          "output_type": "stream",
          "name": "stdout",
          "text": [
            "652812\n"
          ]
        },
        {
          "output_type": "stream",
          "name": "stderr",
          "text": [
            "<ipython-input-80-fece6007a668>:6: FutureWarning: A value is trying to be set on a copy of a DataFrame or Series through chained assignment using an inplace method.\n",
            "The behavior will change in pandas 3.0. This inplace method will never work because the intermediate object on which we are setting values always behaves as a copy.\n",
            "\n",
            "For example, when doing 'df[col].method(value, inplace=True)', try using 'df.method({col: value}, inplace=True)' or df[col] = df[col].method(value) instead, to perform the operation inplace on the original object.\n",
            "\n",
            "\n",
            "  df['views'].fillna(0, inplace=True)\n"
          ]
        }
      ]
    },
    {
      "cell_type": "code",
      "source": [],
      "metadata": {
        "id": "ESv41d8Qr4_Y"
      },
      "execution_count": null,
      "outputs": []
    },
    {
      "cell_type": "code",
      "source": [
        "# FutureWarning 해결 버전\n",
        "import pandas as pd\n",
        "# df = pd.read_csv(\"type1_data1.csv\")\n",
        "df = pd.read_csv(\"https://raw.githubusercontent.com/lovedlim/bigdata_analyst_cert/main/part1/ch3/type1_data1.csv\")\n",
        "\n",
        "# 결측 데이터 0으로 대체\n",
        "df['views'] = df['views'].fillna(0)\n",
        "\n",
        "# views 컬럼에서 10번째로 큰 값을 구합니다.\n",
        "value = df['views'].nlargest(10).iloc[-1]\n",
        "\n",
        "# views 컬럼에서 가장 큰 10개의 값을 10번째로 큰 값으로 대체\n",
        "df.loc[df['views'] > value, 'views'] = value\n",
        "\n",
        "# views 컬럼의 합\n",
        "print(int(df['views'].sum()))"
      ],
      "metadata": {
        "colab": {
          "base_uri": "https://localhost:8080/"
        },
        "id": "p3n5jcESp7kQ",
        "outputId": "eff6f934-cb12-4858-bf99-24fd6fe76ae3"
      },
      "execution_count": null,
      "outputs": [
        {
          "output_type": "stream",
          "name": "stdout",
          "text": [
            "652812\n"
          ]
        }
      ]
    },
    {
      "cell_type": "markdown",
      "source": [
        "### Section5."
      ],
      "metadata": {
        "id": "hWZP_Ppds-uO"
      }
    },
    {
      "cell_type": "code",
      "source": [
        "import pandas as pd\n",
        "# df = pd.read_csv(\"type1_data1.csv\")\n",
        "df = pd.read_csv(\"https://raw.githubusercontent.com/lovedlim/bigdata_analyst_cert/main/part1/ch3/type1_data1.csv\")\n",
        "\n",
        "# f4 컬럼에서 뒤에 2개 값 슬라이싱\n",
        "df['new'] = df['f4'].str[2:4]\n",
        "df['new']\n",
        "\n",
        "# # FJ인 데이터 찾기\n",
        "cond = df['new'] == 'FJ'\n",
        "df = df[cond]\n",
        "df\n",
        "# # f2 평균 구하기\n",
        "# print(round(df['f2'].mean(), 2))"
      ],
      "metadata": {
        "colab": {
          "base_uri": "https://localhost:8080/",
          "height": 927
        },
        "id": "W4wM3sAKs-uP",
        "outputId": "a731101f-7bf6-41fa-92cf-8d769f3e618e"
      },
      "execution_count": 165,
      "outputs": [
        {
          "output_type": "execute_result",
          "data": {
            "text/plain": [
              "        id   age city     f1  f2      f3    f4         f5  subscribed  \\\n",
              "0     id01   2.0   서울    NaN   0    gold  ENFJ  91.297791  2024-07-16   \n",
              "1     id02   9.0   서울   70.0   1     NaN  ENFJ  60.339826  2024-05-12   \n",
              "4     id05  24.0   서울   85.0   2     NaN  ISFJ  29.269869  2024-03-07   \n",
              "6     id07  36.3   서울   60.0   1     NaN  ISFJ   9.796378  2024-01-11   \n",
              "7     id08  38.0   서울  101.0   1  silver  INFJ  83.685380  2024-03-06   \n",
              "8     id09   3.3   서울   35.0   2     NaN  ESFJ  17.252986  2024-03-21   \n",
              "13    id13  15.0   서울   68.0   0    gold  ESFJ  83.685380  2024-12-30   \n",
              "18    id18  41.0   서울   87.0   2    gold  ISFJ  80.138280  2024-03-03   \n",
              "24    id24  80.0   부산   44.0   0    gold  INFJ  73.586397  2024-09-11   \n",
              "31    id31  86.0   부산   77.0   0    gold  ESFJ  73.586397  2024-02-11   \n",
              "32    id32  25.0   부산   64.0   0     vip  ISFJ  13.049921  2024-05-24   \n",
              "33    id33  47.0   부산   94.0   0  silver  ENFJ  17.252986  2024-04-02   \n",
              "39    id39  56.0   부산   50.0   0     NaN  INFJ  33.308999  2024-12-22   \n",
              "41    id41  81.0   대구   55.0   0    gold  ENFJ  37.113739  2024-10-04   \n",
              "45    id45  97.0   대구   88.0   0    gold  ENFJ  13.049921  2024-06-21   \n",
              "52    id52  97.0   대구   82.0   1    gold  ISFJ  90.496999  2024-05-20   \n",
              "54    id54  53.0   대구    NaN   1    gold  ENFJ  69.730313  2024-06-21   \n",
              "57    id57   3.0   대구  111.0   0  silver  ISFJ  29.269869  2024-01-12   \n",
              "59    id59  64.0   대구    NaN   1  silver  ESFJ  20.129444  2024-06-23   \n",
              "63    id63  88.0   경기   86.0   1  silver  ISFJ  73.586397  2024-12-01   \n",
              "67    id67  66.0   경기   52.0   1     NaN  ISFJ  73.586397  2024-06-17   \n",
              "73    id73  90.0   경기    NaN   1     NaN  ISFJ  73.586397  2024-08-12   \n",
              "81    id81  86.0   경기   50.0   1     NaN  ISFJ  37.113739  2024-09-14   \n",
              "85    id85  83.6   경기   55.0   0    gold  INFJ  80.138280  2024-09-24   \n",
              "99    id99   1.0   경기   47.0   0    gold  ESFJ  97.381034  2024-12-02   \n",
              "105  id104  21.0   서울   13.0   0  silver  ESFJ   0.000000  2025-02-17   \n",
              "106  id105  21.0   경기   24.0   0    gold  ESFJ   0.000000  2025-02-17   \n",
              "119  id118  24.0   부산   94.0   1     vip  ESFJ   0.000000  2025-02-17   \n",
              "\n",
              "       views new  \n",
              "0     6820.0  FJ  \n",
              "1     2534.0  FJ  \n",
              "4     1338.0  FJ  \n",
              "6       61.0  FJ  \n",
              "7     3260.0  FJ  \n",
              "8     2764.0  FJ  \n",
              "13    5643.0  FJ  \n",
              "18    7933.0  FJ  \n",
              "24    5976.0  FJ  \n",
              "31    8014.0  FJ  \n",
              "32   17421.0  FJ  \n",
              "33    3880.0  FJ  \n",
              "39       NaN  FJ  \n",
              "41    8640.0  FJ  \n",
              "45    8317.0  FJ  \n",
              "52    8518.0  FJ  \n",
              "54    5872.0  FJ  \n",
              "57    4421.0  FJ  \n",
              "59    4994.0  FJ  \n",
              "63    4053.0  FJ  \n",
              "67    1159.0  FJ  \n",
              "73     512.0  FJ  \n",
              "81     244.0  FJ  \n",
              "85    6719.0  FJ  \n",
              "99    6090.0  FJ  \n",
              "105   4556.0  FJ  \n",
              "106   7654.0  FJ  \n",
              "119   2356.0  FJ  "
            ],
            "text/html": [
              "\n",
              "  <div id=\"df-520dd534-e880-45b4-b258-e06ba7e249f8\" class=\"colab-df-container\">\n",
              "    <div>\n",
              "<style scoped>\n",
              "    .dataframe tbody tr th:only-of-type {\n",
              "        vertical-align: middle;\n",
              "    }\n",
              "\n",
              "    .dataframe tbody tr th {\n",
              "        vertical-align: top;\n",
              "    }\n",
              "\n",
              "    .dataframe thead th {\n",
              "        text-align: right;\n",
              "    }\n",
              "</style>\n",
              "<table border=\"1\" class=\"dataframe\">\n",
              "  <thead>\n",
              "    <tr style=\"text-align: right;\">\n",
              "      <th></th>\n",
              "      <th>id</th>\n",
              "      <th>age</th>\n",
              "      <th>city</th>\n",
              "      <th>f1</th>\n",
              "      <th>f2</th>\n",
              "      <th>f3</th>\n",
              "      <th>f4</th>\n",
              "      <th>f5</th>\n",
              "      <th>subscribed</th>\n",
              "      <th>views</th>\n",
              "      <th>new</th>\n",
              "    </tr>\n",
              "  </thead>\n",
              "  <tbody>\n",
              "    <tr>\n",
              "      <th>0</th>\n",
              "      <td>id01</td>\n",
              "      <td>2.0</td>\n",
              "      <td>서울</td>\n",
              "      <td>NaN</td>\n",
              "      <td>0</td>\n",
              "      <td>gold</td>\n",
              "      <td>ENFJ</td>\n",
              "      <td>91.297791</td>\n",
              "      <td>2024-07-16</td>\n",
              "      <td>6820.0</td>\n",
              "      <td>FJ</td>\n",
              "    </tr>\n",
              "    <tr>\n",
              "      <th>1</th>\n",
              "      <td>id02</td>\n",
              "      <td>9.0</td>\n",
              "      <td>서울</td>\n",
              "      <td>70.0</td>\n",
              "      <td>1</td>\n",
              "      <td>NaN</td>\n",
              "      <td>ENFJ</td>\n",
              "      <td>60.339826</td>\n",
              "      <td>2024-05-12</td>\n",
              "      <td>2534.0</td>\n",
              "      <td>FJ</td>\n",
              "    </tr>\n",
              "    <tr>\n",
              "      <th>4</th>\n",
              "      <td>id05</td>\n",
              "      <td>24.0</td>\n",
              "      <td>서울</td>\n",
              "      <td>85.0</td>\n",
              "      <td>2</td>\n",
              "      <td>NaN</td>\n",
              "      <td>ISFJ</td>\n",
              "      <td>29.269869</td>\n",
              "      <td>2024-03-07</td>\n",
              "      <td>1338.0</td>\n",
              "      <td>FJ</td>\n",
              "    </tr>\n",
              "    <tr>\n",
              "      <th>6</th>\n",
              "      <td>id07</td>\n",
              "      <td>36.3</td>\n",
              "      <td>서울</td>\n",
              "      <td>60.0</td>\n",
              "      <td>1</td>\n",
              "      <td>NaN</td>\n",
              "      <td>ISFJ</td>\n",
              "      <td>9.796378</td>\n",
              "      <td>2024-01-11</td>\n",
              "      <td>61.0</td>\n",
              "      <td>FJ</td>\n",
              "    </tr>\n",
              "    <tr>\n",
              "      <th>7</th>\n",
              "      <td>id08</td>\n",
              "      <td>38.0</td>\n",
              "      <td>서울</td>\n",
              "      <td>101.0</td>\n",
              "      <td>1</td>\n",
              "      <td>silver</td>\n",
              "      <td>INFJ</td>\n",
              "      <td>83.685380</td>\n",
              "      <td>2024-03-06</td>\n",
              "      <td>3260.0</td>\n",
              "      <td>FJ</td>\n",
              "    </tr>\n",
              "    <tr>\n",
              "      <th>8</th>\n",
              "      <td>id09</td>\n",
              "      <td>3.3</td>\n",
              "      <td>서울</td>\n",
              "      <td>35.0</td>\n",
              "      <td>2</td>\n",
              "      <td>NaN</td>\n",
              "      <td>ESFJ</td>\n",
              "      <td>17.252986</td>\n",
              "      <td>2024-03-21</td>\n",
              "      <td>2764.0</td>\n",
              "      <td>FJ</td>\n",
              "    </tr>\n",
              "    <tr>\n",
              "      <th>13</th>\n",
              "      <td>id13</td>\n",
              "      <td>15.0</td>\n",
              "      <td>서울</td>\n",
              "      <td>68.0</td>\n",
              "      <td>0</td>\n",
              "      <td>gold</td>\n",
              "      <td>ESFJ</td>\n",
              "      <td>83.685380</td>\n",
              "      <td>2024-12-30</td>\n",
              "      <td>5643.0</td>\n",
              "      <td>FJ</td>\n",
              "    </tr>\n",
              "    <tr>\n",
              "      <th>18</th>\n",
              "      <td>id18</td>\n",
              "      <td>41.0</td>\n",
              "      <td>서울</td>\n",
              "      <td>87.0</td>\n",
              "      <td>2</td>\n",
              "      <td>gold</td>\n",
              "      <td>ISFJ</td>\n",
              "      <td>80.138280</td>\n",
              "      <td>2024-03-03</td>\n",
              "      <td>7933.0</td>\n",
              "      <td>FJ</td>\n",
              "    </tr>\n",
              "    <tr>\n",
              "      <th>24</th>\n",
              "      <td>id24</td>\n",
              "      <td>80.0</td>\n",
              "      <td>부산</td>\n",
              "      <td>44.0</td>\n",
              "      <td>0</td>\n",
              "      <td>gold</td>\n",
              "      <td>INFJ</td>\n",
              "      <td>73.586397</td>\n",
              "      <td>2024-09-11</td>\n",
              "      <td>5976.0</td>\n",
              "      <td>FJ</td>\n",
              "    </tr>\n",
              "    <tr>\n",
              "      <th>31</th>\n",
              "      <td>id31</td>\n",
              "      <td>86.0</td>\n",
              "      <td>부산</td>\n",
              "      <td>77.0</td>\n",
              "      <td>0</td>\n",
              "      <td>gold</td>\n",
              "      <td>ESFJ</td>\n",
              "      <td>73.586397</td>\n",
              "      <td>2024-02-11</td>\n",
              "      <td>8014.0</td>\n",
              "      <td>FJ</td>\n",
              "    </tr>\n",
              "    <tr>\n",
              "      <th>32</th>\n",
              "      <td>id32</td>\n",
              "      <td>25.0</td>\n",
              "      <td>부산</td>\n",
              "      <td>64.0</td>\n",
              "      <td>0</td>\n",
              "      <td>vip</td>\n",
              "      <td>ISFJ</td>\n",
              "      <td>13.049921</td>\n",
              "      <td>2024-05-24</td>\n",
              "      <td>17421.0</td>\n",
              "      <td>FJ</td>\n",
              "    </tr>\n",
              "    <tr>\n",
              "      <th>33</th>\n",
              "      <td>id33</td>\n",
              "      <td>47.0</td>\n",
              "      <td>부산</td>\n",
              "      <td>94.0</td>\n",
              "      <td>0</td>\n",
              "      <td>silver</td>\n",
              "      <td>ENFJ</td>\n",
              "      <td>17.252986</td>\n",
              "      <td>2024-04-02</td>\n",
              "      <td>3880.0</td>\n",
              "      <td>FJ</td>\n",
              "    </tr>\n",
              "    <tr>\n",
              "      <th>39</th>\n",
              "      <td>id39</td>\n",
              "      <td>56.0</td>\n",
              "      <td>부산</td>\n",
              "      <td>50.0</td>\n",
              "      <td>0</td>\n",
              "      <td>NaN</td>\n",
              "      <td>INFJ</td>\n",
              "      <td>33.308999</td>\n",
              "      <td>2024-12-22</td>\n",
              "      <td>NaN</td>\n",
              "      <td>FJ</td>\n",
              "    </tr>\n",
              "    <tr>\n",
              "      <th>41</th>\n",
              "      <td>id41</td>\n",
              "      <td>81.0</td>\n",
              "      <td>대구</td>\n",
              "      <td>55.0</td>\n",
              "      <td>0</td>\n",
              "      <td>gold</td>\n",
              "      <td>ENFJ</td>\n",
              "      <td>37.113739</td>\n",
              "      <td>2024-10-04</td>\n",
              "      <td>8640.0</td>\n",
              "      <td>FJ</td>\n",
              "    </tr>\n",
              "    <tr>\n",
              "      <th>45</th>\n",
              "      <td>id45</td>\n",
              "      <td>97.0</td>\n",
              "      <td>대구</td>\n",
              "      <td>88.0</td>\n",
              "      <td>0</td>\n",
              "      <td>gold</td>\n",
              "      <td>ENFJ</td>\n",
              "      <td>13.049921</td>\n",
              "      <td>2024-06-21</td>\n",
              "      <td>8317.0</td>\n",
              "      <td>FJ</td>\n",
              "    </tr>\n",
              "    <tr>\n",
              "      <th>52</th>\n",
              "      <td>id52</td>\n",
              "      <td>97.0</td>\n",
              "      <td>대구</td>\n",
              "      <td>82.0</td>\n",
              "      <td>1</td>\n",
              "      <td>gold</td>\n",
              "      <td>ISFJ</td>\n",
              "      <td>90.496999</td>\n",
              "      <td>2024-05-20</td>\n",
              "      <td>8518.0</td>\n",
              "      <td>FJ</td>\n",
              "    </tr>\n",
              "    <tr>\n",
              "      <th>54</th>\n",
              "      <td>id54</td>\n",
              "      <td>53.0</td>\n",
              "      <td>대구</td>\n",
              "      <td>NaN</td>\n",
              "      <td>1</td>\n",
              "      <td>gold</td>\n",
              "      <td>ENFJ</td>\n",
              "      <td>69.730313</td>\n",
              "      <td>2024-06-21</td>\n",
              "      <td>5872.0</td>\n",
              "      <td>FJ</td>\n",
              "    </tr>\n",
              "    <tr>\n",
              "      <th>57</th>\n",
              "      <td>id57</td>\n",
              "      <td>3.0</td>\n",
              "      <td>대구</td>\n",
              "      <td>111.0</td>\n",
              "      <td>0</td>\n",
              "      <td>silver</td>\n",
              "      <td>ISFJ</td>\n",
              "      <td>29.269869</td>\n",
              "      <td>2024-01-12</td>\n",
              "      <td>4421.0</td>\n",
              "      <td>FJ</td>\n",
              "    </tr>\n",
              "    <tr>\n",
              "      <th>59</th>\n",
              "      <td>id59</td>\n",
              "      <td>64.0</td>\n",
              "      <td>대구</td>\n",
              "      <td>NaN</td>\n",
              "      <td>1</td>\n",
              "      <td>silver</td>\n",
              "      <td>ESFJ</td>\n",
              "      <td>20.129444</td>\n",
              "      <td>2024-06-23</td>\n",
              "      <td>4994.0</td>\n",
              "      <td>FJ</td>\n",
              "    </tr>\n",
              "    <tr>\n",
              "      <th>63</th>\n",
              "      <td>id63</td>\n",
              "      <td>88.0</td>\n",
              "      <td>경기</td>\n",
              "      <td>86.0</td>\n",
              "      <td>1</td>\n",
              "      <td>silver</td>\n",
              "      <td>ISFJ</td>\n",
              "      <td>73.586397</td>\n",
              "      <td>2024-12-01</td>\n",
              "      <td>4053.0</td>\n",
              "      <td>FJ</td>\n",
              "    </tr>\n",
              "    <tr>\n",
              "      <th>67</th>\n",
              "      <td>id67</td>\n",
              "      <td>66.0</td>\n",
              "      <td>경기</td>\n",
              "      <td>52.0</td>\n",
              "      <td>1</td>\n",
              "      <td>NaN</td>\n",
              "      <td>ISFJ</td>\n",
              "      <td>73.586397</td>\n",
              "      <td>2024-06-17</td>\n",
              "      <td>1159.0</td>\n",
              "      <td>FJ</td>\n",
              "    </tr>\n",
              "    <tr>\n",
              "      <th>73</th>\n",
              "      <td>id73</td>\n",
              "      <td>90.0</td>\n",
              "      <td>경기</td>\n",
              "      <td>NaN</td>\n",
              "      <td>1</td>\n",
              "      <td>NaN</td>\n",
              "      <td>ISFJ</td>\n",
              "      <td>73.586397</td>\n",
              "      <td>2024-08-12</td>\n",
              "      <td>512.0</td>\n",
              "      <td>FJ</td>\n",
              "    </tr>\n",
              "    <tr>\n",
              "      <th>81</th>\n",
              "      <td>id81</td>\n",
              "      <td>86.0</td>\n",
              "      <td>경기</td>\n",
              "      <td>50.0</td>\n",
              "      <td>1</td>\n",
              "      <td>NaN</td>\n",
              "      <td>ISFJ</td>\n",
              "      <td>37.113739</td>\n",
              "      <td>2024-09-14</td>\n",
              "      <td>244.0</td>\n",
              "      <td>FJ</td>\n",
              "    </tr>\n",
              "    <tr>\n",
              "      <th>85</th>\n",
              "      <td>id85</td>\n",
              "      <td>83.6</td>\n",
              "      <td>경기</td>\n",
              "      <td>55.0</td>\n",
              "      <td>0</td>\n",
              "      <td>gold</td>\n",
              "      <td>INFJ</td>\n",
              "      <td>80.138280</td>\n",
              "      <td>2024-09-24</td>\n",
              "      <td>6719.0</td>\n",
              "      <td>FJ</td>\n",
              "    </tr>\n",
              "    <tr>\n",
              "      <th>99</th>\n",
              "      <td>id99</td>\n",
              "      <td>1.0</td>\n",
              "      <td>경기</td>\n",
              "      <td>47.0</td>\n",
              "      <td>0</td>\n",
              "      <td>gold</td>\n",
              "      <td>ESFJ</td>\n",
              "      <td>97.381034</td>\n",
              "      <td>2024-12-02</td>\n",
              "      <td>6090.0</td>\n",
              "      <td>FJ</td>\n",
              "    </tr>\n",
              "    <tr>\n",
              "      <th>105</th>\n",
              "      <td>id104</td>\n",
              "      <td>21.0</td>\n",
              "      <td>서울</td>\n",
              "      <td>13.0</td>\n",
              "      <td>0</td>\n",
              "      <td>silver</td>\n",
              "      <td>ESFJ</td>\n",
              "      <td>0.000000</td>\n",
              "      <td>2025-02-17</td>\n",
              "      <td>4556.0</td>\n",
              "      <td>FJ</td>\n",
              "    </tr>\n",
              "    <tr>\n",
              "      <th>106</th>\n",
              "      <td>id105</td>\n",
              "      <td>21.0</td>\n",
              "      <td>경기</td>\n",
              "      <td>24.0</td>\n",
              "      <td>0</td>\n",
              "      <td>gold</td>\n",
              "      <td>ESFJ</td>\n",
              "      <td>0.000000</td>\n",
              "      <td>2025-02-17</td>\n",
              "      <td>7654.0</td>\n",
              "      <td>FJ</td>\n",
              "    </tr>\n",
              "    <tr>\n",
              "      <th>119</th>\n",
              "      <td>id118</td>\n",
              "      <td>24.0</td>\n",
              "      <td>부산</td>\n",
              "      <td>94.0</td>\n",
              "      <td>1</td>\n",
              "      <td>vip</td>\n",
              "      <td>ESFJ</td>\n",
              "      <td>0.000000</td>\n",
              "      <td>2025-02-17</td>\n",
              "      <td>2356.0</td>\n",
              "      <td>FJ</td>\n",
              "    </tr>\n",
              "  </tbody>\n",
              "</table>\n",
              "</div>\n",
              "    <div class=\"colab-df-buttons\">\n",
              "\n",
              "  <div class=\"colab-df-container\">\n",
              "    <button class=\"colab-df-convert\" onclick=\"convertToInteractive('df-520dd534-e880-45b4-b258-e06ba7e249f8')\"\n",
              "            title=\"Convert this dataframe to an interactive table.\"\n",
              "            style=\"display:none;\">\n",
              "\n",
              "  <svg xmlns=\"http://www.w3.org/2000/svg\" height=\"24px\" viewBox=\"0 -960 960 960\">\n",
              "    <path d=\"M120-120v-720h720v720H120Zm60-500h600v-160H180v160Zm220 220h160v-160H400v160Zm0 220h160v-160H400v160ZM180-400h160v-160H180v160Zm440 0h160v-160H620v160ZM180-180h160v-160H180v160Zm440 0h160v-160H620v160Z\"/>\n",
              "  </svg>\n",
              "    </button>\n",
              "\n",
              "  <style>\n",
              "    .colab-df-container {\n",
              "      display:flex;\n",
              "      gap: 12px;\n",
              "    }\n",
              "\n",
              "    .colab-df-convert {\n",
              "      background-color: #E8F0FE;\n",
              "      border: none;\n",
              "      border-radius: 50%;\n",
              "      cursor: pointer;\n",
              "      display: none;\n",
              "      fill: #1967D2;\n",
              "      height: 32px;\n",
              "      padding: 0 0 0 0;\n",
              "      width: 32px;\n",
              "    }\n",
              "\n",
              "    .colab-df-convert:hover {\n",
              "      background-color: #E2EBFA;\n",
              "      box-shadow: 0px 1px 2px rgba(60, 64, 67, 0.3), 0px 1px 3px 1px rgba(60, 64, 67, 0.15);\n",
              "      fill: #174EA6;\n",
              "    }\n",
              "\n",
              "    .colab-df-buttons div {\n",
              "      margin-bottom: 4px;\n",
              "    }\n",
              "\n",
              "    [theme=dark] .colab-df-convert {\n",
              "      background-color: #3B4455;\n",
              "      fill: #D2E3FC;\n",
              "    }\n",
              "\n",
              "    [theme=dark] .colab-df-convert:hover {\n",
              "      background-color: #434B5C;\n",
              "      box-shadow: 0px 1px 3px 1px rgba(0, 0, 0, 0.15);\n",
              "      filter: drop-shadow(0px 1px 2px rgba(0, 0, 0, 0.3));\n",
              "      fill: #FFFFFF;\n",
              "    }\n",
              "  </style>\n",
              "\n",
              "    <script>\n",
              "      const buttonEl =\n",
              "        document.querySelector('#df-520dd534-e880-45b4-b258-e06ba7e249f8 button.colab-df-convert');\n",
              "      buttonEl.style.display =\n",
              "        google.colab.kernel.accessAllowed ? 'block' : 'none';\n",
              "\n",
              "      async function convertToInteractive(key) {\n",
              "        const element = document.querySelector('#df-520dd534-e880-45b4-b258-e06ba7e249f8');\n",
              "        const dataTable =\n",
              "          await google.colab.kernel.invokeFunction('convertToInteractive',\n",
              "                                                    [key], {});\n",
              "        if (!dataTable) return;\n",
              "\n",
              "        const docLinkHtml = 'Like what you see? Visit the ' +\n",
              "          '<a target=\"_blank\" href=https://colab.research.google.com/notebooks/data_table.ipynb>data table notebook</a>'\n",
              "          + ' to learn more about interactive tables.';\n",
              "        element.innerHTML = '';\n",
              "        dataTable['output_type'] = 'display_data';\n",
              "        await google.colab.output.renderOutput(dataTable, element);\n",
              "        const docLink = document.createElement('div');\n",
              "        docLink.innerHTML = docLinkHtml;\n",
              "        element.appendChild(docLink);\n",
              "      }\n",
              "    </script>\n",
              "  </div>\n",
              "\n",
              "\n",
              "    <div id=\"df-e92d81d2-2e89-43a2-a9f0-3eabaa7a5e89\">\n",
              "      <button class=\"colab-df-quickchart\" onclick=\"quickchart('df-e92d81d2-2e89-43a2-a9f0-3eabaa7a5e89')\"\n",
              "                title=\"Suggest charts\"\n",
              "                style=\"display:none;\">\n",
              "\n",
              "<svg xmlns=\"http://www.w3.org/2000/svg\" height=\"24px\"viewBox=\"0 0 24 24\"\n",
              "     width=\"24px\">\n",
              "    <g>\n",
              "        <path d=\"M19 3H5c-1.1 0-2 .9-2 2v14c0 1.1.9 2 2 2h14c1.1 0 2-.9 2-2V5c0-1.1-.9-2-2-2zM9 17H7v-7h2v7zm4 0h-2V7h2v10zm4 0h-2v-4h2v4z\"/>\n",
              "    </g>\n",
              "</svg>\n",
              "      </button>\n",
              "\n",
              "<style>\n",
              "  .colab-df-quickchart {\n",
              "      --bg-color: #E8F0FE;\n",
              "      --fill-color: #1967D2;\n",
              "      --hover-bg-color: #E2EBFA;\n",
              "      --hover-fill-color: #174EA6;\n",
              "      --disabled-fill-color: #AAA;\n",
              "      --disabled-bg-color: #DDD;\n",
              "  }\n",
              "\n",
              "  [theme=dark] .colab-df-quickchart {\n",
              "      --bg-color: #3B4455;\n",
              "      --fill-color: #D2E3FC;\n",
              "      --hover-bg-color: #434B5C;\n",
              "      --hover-fill-color: #FFFFFF;\n",
              "      --disabled-bg-color: #3B4455;\n",
              "      --disabled-fill-color: #666;\n",
              "  }\n",
              "\n",
              "  .colab-df-quickchart {\n",
              "    background-color: var(--bg-color);\n",
              "    border: none;\n",
              "    border-radius: 50%;\n",
              "    cursor: pointer;\n",
              "    display: none;\n",
              "    fill: var(--fill-color);\n",
              "    height: 32px;\n",
              "    padding: 0;\n",
              "    width: 32px;\n",
              "  }\n",
              "\n",
              "  .colab-df-quickchart:hover {\n",
              "    background-color: var(--hover-bg-color);\n",
              "    box-shadow: 0 1px 2px rgba(60, 64, 67, 0.3), 0 1px 3px 1px rgba(60, 64, 67, 0.15);\n",
              "    fill: var(--button-hover-fill-color);\n",
              "  }\n",
              "\n",
              "  .colab-df-quickchart-complete:disabled,\n",
              "  .colab-df-quickchart-complete:disabled:hover {\n",
              "    background-color: var(--disabled-bg-color);\n",
              "    fill: var(--disabled-fill-color);\n",
              "    box-shadow: none;\n",
              "  }\n",
              "\n",
              "  .colab-df-spinner {\n",
              "    border: 2px solid var(--fill-color);\n",
              "    border-color: transparent;\n",
              "    border-bottom-color: var(--fill-color);\n",
              "    animation:\n",
              "      spin 1s steps(1) infinite;\n",
              "  }\n",
              "\n",
              "  @keyframes spin {\n",
              "    0% {\n",
              "      border-color: transparent;\n",
              "      border-bottom-color: var(--fill-color);\n",
              "      border-left-color: var(--fill-color);\n",
              "    }\n",
              "    20% {\n",
              "      border-color: transparent;\n",
              "      border-left-color: var(--fill-color);\n",
              "      border-top-color: var(--fill-color);\n",
              "    }\n",
              "    30% {\n",
              "      border-color: transparent;\n",
              "      border-left-color: var(--fill-color);\n",
              "      border-top-color: var(--fill-color);\n",
              "      border-right-color: var(--fill-color);\n",
              "    }\n",
              "    40% {\n",
              "      border-color: transparent;\n",
              "      border-right-color: var(--fill-color);\n",
              "      border-top-color: var(--fill-color);\n",
              "    }\n",
              "    60% {\n",
              "      border-color: transparent;\n",
              "      border-right-color: var(--fill-color);\n",
              "    }\n",
              "    80% {\n",
              "      border-color: transparent;\n",
              "      border-right-color: var(--fill-color);\n",
              "      border-bottom-color: var(--fill-color);\n",
              "    }\n",
              "    90% {\n",
              "      border-color: transparent;\n",
              "      border-bottom-color: var(--fill-color);\n",
              "    }\n",
              "  }\n",
              "</style>\n",
              "\n",
              "      <script>\n",
              "        async function quickchart(key) {\n",
              "          const quickchartButtonEl =\n",
              "            document.querySelector('#' + key + ' button');\n",
              "          quickchartButtonEl.disabled = true;  // To prevent multiple clicks.\n",
              "          quickchartButtonEl.classList.add('colab-df-spinner');\n",
              "          try {\n",
              "            const charts = await google.colab.kernel.invokeFunction(\n",
              "                'suggestCharts', [key], {});\n",
              "          } catch (error) {\n",
              "            console.error('Error during call to suggestCharts:', error);\n",
              "          }\n",
              "          quickchartButtonEl.classList.remove('colab-df-spinner');\n",
              "          quickchartButtonEl.classList.add('colab-df-quickchart-complete');\n",
              "        }\n",
              "        (() => {\n",
              "          let quickchartButtonEl =\n",
              "            document.querySelector('#df-e92d81d2-2e89-43a2-a9f0-3eabaa7a5e89 button');\n",
              "          quickchartButtonEl.style.display =\n",
              "            google.colab.kernel.accessAllowed ? 'block' : 'none';\n",
              "        })();\n",
              "      </script>\n",
              "    </div>\n",
              "\n",
              "  <div id=\"id_03b397e7-2d79-44de-80b9-d4ebdb7b2dba\">\n",
              "    <style>\n",
              "      .colab-df-generate {\n",
              "        background-color: #E8F0FE;\n",
              "        border: none;\n",
              "        border-radius: 50%;\n",
              "        cursor: pointer;\n",
              "        display: none;\n",
              "        fill: #1967D2;\n",
              "        height: 32px;\n",
              "        padding: 0 0 0 0;\n",
              "        width: 32px;\n",
              "      }\n",
              "\n",
              "      .colab-df-generate:hover {\n",
              "        background-color: #E2EBFA;\n",
              "        box-shadow: 0px 1px 2px rgba(60, 64, 67, 0.3), 0px 1px 3px 1px rgba(60, 64, 67, 0.15);\n",
              "        fill: #174EA6;\n",
              "      }\n",
              "\n",
              "      [theme=dark] .colab-df-generate {\n",
              "        background-color: #3B4455;\n",
              "        fill: #D2E3FC;\n",
              "      }\n",
              "\n",
              "      [theme=dark] .colab-df-generate:hover {\n",
              "        background-color: #434B5C;\n",
              "        box-shadow: 0px 1px 3px 1px rgba(0, 0, 0, 0.15);\n",
              "        filter: drop-shadow(0px 1px 2px rgba(0, 0, 0, 0.3));\n",
              "        fill: #FFFFFF;\n",
              "      }\n",
              "    </style>\n",
              "    <button class=\"colab-df-generate\" onclick=\"generateWithVariable('df')\"\n",
              "            title=\"Generate code using this dataframe.\"\n",
              "            style=\"display:none;\">\n",
              "\n",
              "  <svg xmlns=\"http://www.w3.org/2000/svg\" height=\"24px\"viewBox=\"0 0 24 24\"\n",
              "       width=\"24px\">\n",
              "    <path d=\"M7,19H8.4L18.45,9,17,7.55,7,17.6ZM5,21V16.75L18.45,3.32a2,2,0,0,1,2.83,0l1.4,1.43a1.91,1.91,0,0,1,.58,1.4,1.91,1.91,0,0,1-.58,1.4L9.25,21ZM18.45,9,17,7.55Zm-12,3A5.31,5.31,0,0,0,4.9,8.1,5.31,5.31,0,0,0,1,6.5,5.31,5.31,0,0,0,4.9,4.9,5.31,5.31,0,0,0,6.5,1,5.31,5.31,0,0,0,8.1,4.9,5.31,5.31,0,0,0,12,6.5,5.46,5.46,0,0,0,6.5,12Z\"/>\n",
              "  </svg>\n",
              "    </button>\n",
              "    <script>\n",
              "      (() => {\n",
              "      const buttonEl =\n",
              "        document.querySelector('#id_03b397e7-2d79-44de-80b9-d4ebdb7b2dba button.colab-df-generate');\n",
              "      buttonEl.style.display =\n",
              "        google.colab.kernel.accessAllowed ? 'block' : 'none';\n",
              "\n",
              "      buttonEl.onclick = () => {\n",
              "        google.colab.notebook.generateWithVariable('df');\n",
              "      }\n",
              "      })();\n",
              "    </script>\n",
              "  </div>\n",
              "\n",
              "    </div>\n",
              "  </div>\n"
            ],
            "application/vnd.google.colaboratory.intrinsic+json": {
              "type": "dataframe",
              "variable_name": "df",
              "summary": "{\n  \"name\": \"df\",\n  \"rows\": 28,\n  \"fields\": [\n    {\n      \"column\": \"id\",\n      \"properties\": {\n        \"dtype\": \"string\",\n        \"num_unique_values\": 28,\n        \"samples\": [\n          \"id31\",\n          \"id104\",\n          \"id24\"\n        ],\n        \"semantic_type\": \"\",\n        \"description\": \"\"\n      }\n    },\n    {\n      \"column\": \"age\",\n      \"properties\": {\n        \"dtype\": \"number\",\n        \"std\": 33.046621708568125,\n        \"min\": 1.0,\n        \"max\": 97.0,\n        \"num_unique_values\": 24,\n        \"samples\": [\n          80.0,\n          3.0,\n          2.0\n        ],\n        \"semantic_type\": \"\",\n        \"description\": \"\"\n      }\n    },\n    {\n      \"column\": \"city\",\n      \"properties\": {\n        \"dtype\": \"category\",\n        \"num_unique_values\": 4,\n        \"samples\": [\n          \"\\ubd80\\uc0b0\",\n          \"\\uacbd\\uae30\",\n          \"\\uc11c\\uc6b8\"\n        ],\n        \"semantic_type\": \"\",\n        \"description\": \"\"\n      }\n    },\n    {\n      \"column\": \"f1\",\n      \"properties\": {\n        \"dtype\": \"number\",\n        \"std\": 24.90620084596826,\n        \"min\": 13.0,\n        \"max\": 111.0,\n        \"num_unique_values\": 21,\n        \"samples\": [\n          70.0,\n          52.0,\n          111.0\n        ],\n        \"semantic_type\": \"\",\n        \"description\": \"\"\n      }\n    },\n    {\n      \"column\": \"f2\",\n      \"properties\": {\n        \"dtype\": \"number\",\n        \"std\": 0,\n        \"min\": 0,\n        \"max\": 2,\n        \"num_unique_values\": 3,\n        \"samples\": [\n          0,\n          1,\n          2\n        ],\n        \"semantic_type\": \"\",\n        \"description\": \"\"\n      }\n    },\n    {\n      \"column\": \"f3\",\n      \"properties\": {\n        \"dtype\": \"category\",\n        \"num_unique_values\": 3,\n        \"samples\": [\n          \"gold\",\n          \"silver\",\n          \"vip\"\n        ],\n        \"semantic_type\": \"\",\n        \"description\": \"\"\n      }\n    },\n    {\n      \"column\": \"f4\",\n      \"properties\": {\n        \"dtype\": \"category\",\n        \"num_unique_values\": 4,\n        \"samples\": [\n          \"ISFJ\",\n          \"ESFJ\",\n          \"ENFJ\"\n        ],\n        \"semantic_type\": \"\",\n        \"description\": \"\"\n      }\n    },\n    {\n      \"column\": \"f5\",\n      \"properties\": {\n        \"dtype\": \"number\",\n        \"std\": 32.91700800844081,\n        \"min\": 0.0,\n        \"max\": 97.38103419,\n        \"num_unique_values\": 16,\n        \"samples\": [\n          91.29779092,\n          60.33982554,\n          17.25298557\n        ],\n        \"semantic_type\": \"\",\n        \"description\": \"\"\n      }\n    },\n    {\n      \"column\": \"subscribed\",\n      \"properties\": {\n        \"dtype\": \"object\",\n        \"num_unique_values\": 25,\n        \"samples\": [\n          \"2024-09-11\",\n          \"2024-01-12\",\n          \"2024-07-16\"\n        ],\n        \"semantic_type\": \"\",\n        \"description\": \"\"\n      }\n    },\n    {\n      \"column\": \"views\",\n      \"properties\": {\n        \"dtype\": \"number\",\n        \"std\": 3634.7064460170573,\n        \"min\": 61.0,\n        \"max\": 17421.0,\n        \"num_unique_values\": 27,\n        \"samples\": [\n          5976.0,\n          8317.0,\n          8014.0\n        ],\n        \"semantic_type\": \"\",\n        \"description\": \"\"\n      }\n    },\n    {\n      \"column\": \"new\",\n      \"properties\": {\n        \"dtype\": \"category\",\n        \"num_unique_values\": 1,\n        \"samples\": [\n          \"FJ\"\n        ],\n        \"semantic_type\": \"\",\n        \"description\": \"\"\n      }\n    }\n  ]\n}"
            }
          },
          "metadata": {},
          "execution_count": 165
        }
      ]
    },
    {
      "cell_type": "code",
      "source": [
        "import pandas as pd\n",
        "\n",
        "df = pd.DataFrame({\n",
        "    'f4': ['abcd', '12345', 'HELLO']\n",
        "})\n",
        "\n",
        "print(df['f4'].str[2:4])\n",
        "df"
      ],
      "metadata": {
        "id": "n25fTmo-ucU2",
        "outputId": "dd2fc30c-0bf2-40a5-bb49-801300c410a6",
        "colab": {
          "base_uri": "https://localhost:8080/",
          "height": 215
        }
      },
      "execution_count": 143,
      "outputs": [
        {
          "output_type": "stream",
          "name": "stdout",
          "text": [
            "0    cd\n",
            "1    34\n",
            "2    LL\n",
            "Name: f4, dtype: object\n"
          ]
        },
        {
          "output_type": "execute_result",
          "data": {
            "text/plain": [
              "      f4\n",
              "0   abcd\n",
              "1  12345\n",
              "2  HELLO"
            ],
            "text/html": [
              "\n",
              "  <div id=\"df-fa5f5dd2-b3b2-48f3-b6d2-7098e0dd7a73\" class=\"colab-df-container\">\n",
              "    <div>\n",
              "<style scoped>\n",
              "    .dataframe tbody tr th:only-of-type {\n",
              "        vertical-align: middle;\n",
              "    }\n",
              "\n",
              "    .dataframe tbody tr th {\n",
              "        vertical-align: top;\n",
              "    }\n",
              "\n",
              "    .dataframe thead th {\n",
              "        text-align: right;\n",
              "    }\n",
              "</style>\n",
              "<table border=\"1\" class=\"dataframe\">\n",
              "  <thead>\n",
              "    <tr style=\"text-align: right;\">\n",
              "      <th></th>\n",
              "      <th>f4</th>\n",
              "    </tr>\n",
              "  </thead>\n",
              "  <tbody>\n",
              "    <tr>\n",
              "      <th>0</th>\n",
              "      <td>abcd</td>\n",
              "    </tr>\n",
              "    <tr>\n",
              "      <th>1</th>\n",
              "      <td>12345</td>\n",
              "    </tr>\n",
              "    <tr>\n",
              "      <th>2</th>\n",
              "      <td>HELLO</td>\n",
              "    </tr>\n",
              "  </tbody>\n",
              "</table>\n",
              "</div>\n",
              "    <div class=\"colab-df-buttons\">\n",
              "\n",
              "  <div class=\"colab-df-container\">\n",
              "    <button class=\"colab-df-convert\" onclick=\"convertToInteractive('df-fa5f5dd2-b3b2-48f3-b6d2-7098e0dd7a73')\"\n",
              "            title=\"Convert this dataframe to an interactive table.\"\n",
              "            style=\"display:none;\">\n",
              "\n",
              "  <svg xmlns=\"http://www.w3.org/2000/svg\" height=\"24px\" viewBox=\"0 -960 960 960\">\n",
              "    <path d=\"M120-120v-720h720v720H120Zm60-500h600v-160H180v160Zm220 220h160v-160H400v160Zm0 220h160v-160H400v160ZM180-400h160v-160H180v160Zm440 0h160v-160H620v160ZM180-180h160v-160H180v160Zm440 0h160v-160H620v160Z\"/>\n",
              "  </svg>\n",
              "    </button>\n",
              "\n",
              "  <style>\n",
              "    .colab-df-container {\n",
              "      display:flex;\n",
              "      gap: 12px;\n",
              "    }\n",
              "\n",
              "    .colab-df-convert {\n",
              "      background-color: #E8F0FE;\n",
              "      border: none;\n",
              "      border-radius: 50%;\n",
              "      cursor: pointer;\n",
              "      display: none;\n",
              "      fill: #1967D2;\n",
              "      height: 32px;\n",
              "      padding: 0 0 0 0;\n",
              "      width: 32px;\n",
              "    }\n",
              "\n",
              "    .colab-df-convert:hover {\n",
              "      background-color: #E2EBFA;\n",
              "      box-shadow: 0px 1px 2px rgba(60, 64, 67, 0.3), 0px 1px 3px 1px rgba(60, 64, 67, 0.15);\n",
              "      fill: #174EA6;\n",
              "    }\n",
              "\n",
              "    .colab-df-buttons div {\n",
              "      margin-bottom: 4px;\n",
              "    }\n",
              "\n",
              "    [theme=dark] .colab-df-convert {\n",
              "      background-color: #3B4455;\n",
              "      fill: #D2E3FC;\n",
              "    }\n",
              "\n",
              "    [theme=dark] .colab-df-convert:hover {\n",
              "      background-color: #434B5C;\n",
              "      box-shadow: 0px 1px 3px 1px rgba(0, 0, 0, 0.15);\n",
              "      filter: drop-shadow(0px 1px 2px rgba(0, 0, 0, 0.3));\n",
              "      fill: #FFFFFF;\n",
              "    }\n",
              "  </style>\n",
              "\n",
              "    <script>\n",
              "      const buttonEl =\n",
              "        document.querySelector('#df-fa5f5dd2-b3b2-48f3-b6d2-7098e0dd7a73 button.colab-df-convert');\n",
              "      buttonEl.style.display =\n",
              "        google.colab.kernel.accessAllowed ? 'block' : 'none';\n",
              "\n",
              "      async function convertToInteractive(key) {\n",
              "        const element = document.querySelector('#df-fa5f5dd2-b3b2-48f3-b6d2-7098e0dd7a73');\n",
              "        const dataTable =\n",
              "          await google.colab.kernel.invokeFunction('convertToInteractive',\n",
              "                                                    [key], {});\n",
              "        if (!dataTable) return;\n",
              "\n",
              "        const docLinkHtml = 'Like what you see? Visit the ' +\n",
              "          '<a target=\"_blank\" href=https://colab.research.google.com/notebooks/data_table.ipynb>data table notebook</a>'\n",
              "          + ' to learn more about interactive tables.';\n",
              "        element.innerHTML = '';\n",
              "        dataTable['output_type'] = 'display_data';\n",
              "        await google.colab.output.renderOutput(dataTable, element);\n",
              "        const docLink = document.createElement('div');\n",
              "        docLink.innerHTML = docLinkHtml;\n",
              "        element.appendChild(docLink);\n",
              "      }\n",
              "    </script>\n",
              "  </div>\n",
              "\n",
              "\n",
              "    <div id=\"df-f81c02e9-d6d4-455f-a5a9-59463feccb71\">\n",
              "      <button class=\"colab-df-quickchart\" onclick=\"quickchart('df-f81c02e9-d6d4-455f-a5a9-59463feccb71')\"\n",
              "                title=\"Suggest charts\"\n",
              "                style=\"display:none;\">\n",
              "\n",
              "<svg xmlns=\"http://www.w3.org/2000/svg\" height=\"24px\"viewBox=\"0 0 24 24\"\n",
              "     width=\"24px\">\n",
              "    <g>\n",
              "        <path d=\"M19 3H5c-1.1 0-2 .9-2 2v14c0 1.1.9 2 2 2h14c1.1 0 2-.9 2-2V5c0-1.1-.9-2-2-2zM9 17H7v-7h2v7zm4 0h-2V7h2v10zm4 0h-2v-4h2v4z\"/>\n",
              "    </g>\n",
              "</svg>\n",
              "      </button>\n",
              "\n",
              "<style>\n",
              "  .colab-df-quickchart {\n",
              "      --bg-color: #E8F0FE;\n",
              "      --fill-color: #1967D2;\n",
              "      --hover-bg-color: #E2EBFA;\n",
              "      --hover-fill-color: #174EA6;\n",
              "      --disabled-fill-color: #AAA;\n",
              "      --disabled-bg-color: #DDD;\n",
              "  }\n",
              "\n",
              "  [theme=dark] .colab-df-quickchart {\n",
              "      --bg-color: #3B4455;\n",
              "      --fill-color: #D2E3FC;\n",
              "      --hover-bg-color: #434B5C;\n",
              "      --hover-fill-color: #FFFFFF;\n",
              "      --disabled-bg-color: #3B4455;\n",
              "      --disabled-fill-color: #666;\n",
              "  }\n",
              "\n",
              "  .colab-df-quickchart {\n",
              "    background-color: var(--bg-color);\n",
              "    border: none;\n",
              "    border-radius: 50%;\n",
              "    cursor: pointer;\n",
              "    display: none;\n",
              "    fill: var(--fill-color);\n",
              "    height: 32px;\n",
              "    padding: 0;\n",
              "    width: 32px;\n",
              "  }\n",
              "\n",
              "  .colab-df-quickchart:hover {\n",
              "    background-color: var(--hover-bg-color);\n",
              "    box-shadow: 0 1px 2px rgba(60, 64, 67, 0.3), 0 1px 3px 1px rgba(60, 64, 67, 0.15);\n",
              "    fill: var(--button-hover-fill-color);\n",
              "  }\n",
              "\n",
              "  .colab-df-quickchart-complete:disabled,\n",
              "  .colab-df-quickchart-complete:disabled:hover {\n",
              "    background-color: var(--disabled-bg-color);\n",
              "    fill: var(--disabled-fill-color);\n",
              "    box-shadow: none;\n",
              "  }\n",
              "\n",
              "  .colab-df-spinner {\n",
              "    border: 2px solid var(--fill-color);\n",
              "    border-color: transparent;\n",
              "    border-bottom-color: var(--fill-color);\n",
              "    animation:\n",
              "      spin 1s steps(1) infinite;\n",
              "  }\n",
              "\n",
              "  @keyframes spin {\n",
              "    0% {\n",
              "      border-color: transparent;\n",
              "      border-bottom-color: var(--fill-color);\n",
              "      border-left-color: var(--fill-color);\n",
              "    }\n",
              "    20% {\n",
              "      border-color: transparent;\n",
              "      border-left-color: var(--fill-color);\n",
              "      border-top-color: var(--fill-color);\n",
              "    }\n",
              "    30% {\n",
              "      border-color: transparent;\n",
              "      border-left-color: var(--fill-color);\n",
              "      border-top-color: var(--fill-color);\n",
              "      border-right-color: var(--fill-color);\n",
              "    }\n",
              "    40% {\n",
              "      border-color: transparent;\n",
              "      border-right-color: var(--fill-color);\n",
              "      border-top-color: var(--fill-color);\n",
              "    }\n",
              "    60% {\n",
              "      border-color: transparent;\n",
              "      border-right-color: var(--fill-color);\n",
              "    }\n",
              "    80% {\n",
              "      border-color: transparent;\n",
              "      border-right-color: var(--fill-color);\n",
              "      border-bottom-color: var(--fill-color);\n",
              "    }\n",
              "    90% {\n",
              "      border-color: transparent;\n",
              "      border-bottom-color: var(--fill-color);\n",
              "    }\n",
              "  }\n",
              "</style>\n",
              "\n",
              "      <script>\n",
              "        async function quickchart(key) {\n",
              "          const quickchartButtonEl =\n",
              "            document.querySelector('#' + key + ' button');\n",
              "          quickchartButtonEl.disabled = true;  // To prevent multiple clicks.\n",
              "          quickchartButtonEl.classList.add('colab-df-spinner');\n",
              "          try {\n",
              "            const charts = await google.colab.kernel.invokeFunction(\n",
              "                'suggestCharts', [key], {});\n",
              "          } catch (error) {\n",
              "            console.error('Error during call to suggestCharts:', error);\n",
              "          }\n",
              "          quickchartButtonEl.classList.remove('colab-df-spinner');\n",
              "          quickchartButtonEl.classList.add('colab-df-quickchart-complete');\n",
              "        }\n",
              "        (() => {\n",
              "          let quickchartButtonEl =\n",
              "            document.querySelector('#df-f81c02e9-d6d4-455f-a5a9-59463feccb71 button');\n",
              "          quickchartButtonEl.style.display =\n",
              "            google.colab.kernel.accessAllowed ? 'block' : 'none';\n",
              "        })();\n",
              "      </script>\n",
              "    </div>\n",
              "\n",
              "  <div id=\"id_aadd8bdf-7d5b-4af9-afaa-a5506694c809\">\n",
              "    <style>\n",
              "      .colab-df-generate {\n",
              "        background-color: #E8F0FE;\n",
              "        border: none;\n",
              "        border-radius: 50%;\n",
              "        cursor: pointer;\n",
              "        display: none;\n",
              "        fill: #1967D2;\n",
              "        height: 32px;\n",
              "        padding: 0 0 0 0;\n",
              "        width: 32px;\n",
              "      }\n",
              "\n",
              "      .colab-df-generate:hover {\n",
              "        background-color: #E2EBFA;\n",
              "        box-shadow: 0px 1px 2px rgba(60, 64, 67, 0.3), 0px 1px 3px 1px rgba(60, 64, 67, 0.15);\n",
              "        fill: #174EA6;\n",
              "      }\n",
              "\n",
              "      [theme=dark] .colab-df-generate {\n",
              "        background-color: #3B4455;\n",
              "        fill: #D2E3FC;\n",
              "      }\n",
              "\n",
              "      [theme=dark] .colab-df-generate:hover {\n",
              "        background-color: #434B5C;\n",
              "        box-shadow: 0px 1px 3px 1px rgba(0, 0, 0, 0.15);\n",
              "        filter: drop-shadow(0px 1px 2px rgba(0, 0, 0, 0.3));\n",
              "        fill: #FFFFFF;\n",
              "      }\n",
              "    </style>\n",
              "    <button class=\"colab-df-generate\" onclick=\"generateWithVariable('df')\"\n",
              "            title=\"Generate code using this dataframe.\"\n",
              "            style=\"display:none;\">\n",
              "\n",
              "  <svg xmlns=\"http://www.w3.org/2000/svg\" height=\"24px\"viewBox=\"0 0 24 24\"\n",
              "       width=\"24px\">\n",
              "    <path d=\"M7,19H8.4L18.45,9,17,7.55,7,17.6ZM5,21V16.75L18.45,3.32a2,2,0,0,1,2.83,0l1.4,1.43a1.91,1.91,0,0,1,.58,1.4,1.91,1.91,0,0,1-.58,1.4L9.25,21ZM18.45,9,17,7.55Zm-12,3A5.31,5.31,0,0,0,4.9,8.1,5.31,5.31,0,0,0,1,6.5,5.31,5.31,0,0,0,4.9,4.9,5.31,5.31,0,0,0,6.5,1,5.31,5.31,0,0,0,8.1,4.9,5.31,5.31,0,0,0,12,6.5,5.46,5.46,0,0,0,6.5,12Z\"/>\n",
              "  </svg>\n",
              "    </button>\n",
              "    <script>\n",
              "      (() => {\n",
              "      const buttonEl =\n",
              "        document.querySelector('#id_aadd8bdf-7d5b-4af9-afaa-a5506694c809 button.colab-df-generate');\n",
              "      buttonEl.style.display =\n",
              "        google.colab.kernel.accessAllowed ? 'block' : 'none';\n",
              "\n",
              "      buttonEl.onclick = () => {\n",
              "        google.colab.notebook.generateWithVariable('df');\n",
              "      }\n",
              "      })();\n",
              "    </script>\n",
              "  </div>\n",
              "\n",
              "    </div>\n",
              "  </div>\n"
            ],
            "application/vnd.google.colaboratory.intrinsic+json": {
              "type": "dataframe",
              "variable_name": "df",
              "summary": "{\n  \"name\": \"df\",\n  \"rows\": 3,\n  \"fields\": [\n    {\n      \"column\": \"f4\",\n      \"properties\": {\n        \"dtype\": \"string\",\n        \"num_unique_values\": 3,\n        \"samples\": [\n          \"abcd\",\n          \"12345\",\n          \"HELLO\"\n        ],\n        \"semantic_type\": \"\",\n        \"description\": \"\"\n      }\n    }\n  ]\n}"
            }
          },
          "metadata": {},
          "execution_count": 143
        }
      ]
    },
    {
      "cell_type": "code",
      "source": [
        "df = pd.read_csv(\"https://raw.githubusercontent.com/lovedlim/bigdata_analyst_cert/main/part1/ch3/type1_data1.csv\")\n",
        "print(df.head(3))\n",
        "cond=df['f4'].str.contains('FJ')\n",
        "round(df[cond]['f2'].mean(),2)\n",
        "\n",
        "\n",
        "df['new'] = df['f4'].str[2:4]\n",
        "\n",
        "# cond= df['new']=='FJ'\n",
        "# df=df[cond]\n",
        "# df['f2'].mean()"
      ],
      "metadata": {
        "id": "xsRbUTf1r9An",
        "outputId": "59d29a50-bc48-4be8-d5a9-f6ef74bad985",
        "colab": {
          "base_uri": "https://localhost:8080/"
        }
      },
      "execution_count": 161,
      "outputs": [
        {
          "output_type": "stream",
          "name": "stdout",
          "text": [
            "     id   age city    f1  f2    f3    f4         f5  subscribed   views\n",
            "0  id01   2.0   서울   NaN   0  gold  ENFJ  91.297791  2024-07-16  6820.0\n",
            "1  id02   9.0   서울  70.0   1   NaN  ENFJ  60.339826  2024-05-12  2534.0\n",
            "2  id03  27.0   서울  61.0   1  gold  ISTJ  17.252986  2024-03-16  7312.0\n"
          ]
        },
        {
          "output_type": "execute_result",
          "data": {
            "text/plain": [
              "np.float64(0.61)"
            ]
          },
          "metadata": {},
          "execution_count": 161
        }
      ]
    },
    {
      "cell_type": "code",
      "source": [
        "import pandas as pd\n",
        "# df = pd.read_csv(\"type1_data1.csv\")\n",
        "df = pd.read_csv(\"https://raw.githubusercontent.com/lovedlim/bigdata_analyst_cert/main/part1/ch3/type1_data1.csv\")\n",
        "\n",
        "# FJ인 데이터 찾기\n",
        "cond = df['f4'].str.contains('FJ')\n",
        "df = df[cond]\n",
        "\n",
        "# f2 평균 구하기\n",
        "# print(round(df['f2'].mean(), 2))"
      ],
      "metadata": {
        "colab": {
          "base_uri": "https://localhost:8080/"
        },
        "id": "3ONeJePCDEIz",
        "outputId": "113deeec-92e0-45e1-fc3a-e6e870b78b9d"
      },
      "execution_count": 153,
      "outputs": [
        {
          "output_type": "stream",
          "name": "stdout",
          "text": [
            "0.61\n"
          ]
        }
      ]
    },
    {
      "cell_type": "markdown",
      "source": [
        "### Section6."
      ],
      "metadata": {
        "id": "1_R6mL-as_IJ"
      }
    },
    {
      "cell_type": "code",
      "source": [
        "import pandas as pd\n",
        "# df = pd.read_csv(\"type1_data1.csv\")\n",
        "df = pd.read_csv(\"https://raw.githubusercontent.com/lovedlim/bigdata_analyst_cert/main/part1/ch3/type1_data1.csv\")\n",
        "\n",
        "# 조건에 맞는 데이터\n",
        "cond1 = df['f3'] == 'gold'\n",
        "cond2 = df['f2'] == 2\n",
        "df = df[cond1 & cond2]\n",
        "\n",
        "# 분산\n",
        "result = df['f1'].var()\n",
        "\n",
        "# 출력\n",
        "print(round(result,2))"
      ],
      "metadata": {
        "colab": {
          "base_uri": "https://localhost:8080/"
        },
        "id": "A7aR-DfEeWaI",
        "outputId": "ec927df8-d405-4d34-96ae-35acadd56061"
      },
      "execution_count": null,
      "outputs": [
        {
          "output_type": "stream",
          "name": "stdout",
          "text": [
            "235.43\n"
          ]
        }
      ]
    },
    {
      "cell_type": "markdown",
      "source": [
        "### Section7."
      ],
      "metadata": {
        "id": "_zgaSeQ9s_dI"
      }
    },
    {
      "cell_type": "code",
      "source": [
        "import pandas as pd\n",
        "# df = pd.read_csv(\"type1_data1.csv\")\n",
        "df = pd.read_csv(\"https://raw.githubusercontent.com/lovedlim/bigdata_analyst_cert/main/part1/ch3/type1_data1.csv\")\n",
        "\n",
        "# 나이 + 1\n",
        "df['age'] = df['age'] + 1\n",
        "\n",
        "# 20대, 30대 조건\n",
        "cond1 = (df['age'] >= 20) & (df['age'] < 30)\n",
        "cond2 = (df['age'] >= 30) & (df['age'] < 40)\n",
        "\n",
        "# 30대 views\n",
        "result = abs(df[cond1]['views'].mean() - df[cond2]['views'].mean())\n",
        "\n",
        "print(round(result,2))"
      ],
      "metadata": {
        "colab": {
          "base_uri": "https://localhost:8080/"
        },
        "id": "fxpIvj1vs_dJ",
        "outputId": "f4f16791-8c34-4dbf-f0e6-e292a3094681"
      },
      "execution_count": null,
      "outputs": [
        {
          "output_type": "stream",
          "name": "stdout",
          "text": [
            "263.13\n"
          ]
        }
      ]
    },
    {
      "cell_type": "markdown",
      "source": [
        "### Section8."
      ],
      "metadata": {
        "id": "Qj1dSVqXs_2t"
      }
    },
    {
      "cell_type": "code",
      "source": [
        "import pandas as pd\n",
        "# df = pd.read_csv(\"type1_data1.csv\")\n",
        "df = pd.read_csv(\"https://raw.githubusercontent.com/lovedlim/bigdata_analyst_cert/main/part1/ch3/type1_data1.csv\")\n",
        "\n",
        "# 자료형 변환\n",
        "df['subscribed'] = pd.to_datetime(df['subscribed'])\n",
        "# df['subscribed'] = pd.to_datetime(df['subscribed'], format=\"%Y-%m-%d\") # format 사용\n",
        "\n",
        "# 파생변수 생성 (년, 월)\n",
        "df['year'] = df['subscribed'].dt.year\n",
        "df['month'] = df['subscribed'].dt.month\n",
        "\n",
        "# 2024년 2월이고, 'f3'이 gold인 데이터\n",
        "cond1 = df['year'] == 2024\n",
        "cond2 = df['month'] == 2\n",
        "cond3 = df['f3'] == 'gold'\n",
        "df = df[cond1 & cond2 & cond3]\n",
        "\n",
        "# 데이터 개수\n",
        "print(len(df))"
      ],
      "metadata": {
        "colab": {
          "base_uri": "https://localhost:8080/"
        },
        "id": "XzeSXWfrs_2u",
        "outputId": "89985e17-30e2-4e85-a2cb-b83f33f593f6"
      },
      "execution_count": null,
      "outputs": [
        {
          "output_type": "stream",
          "name": "stdout",
          "text": [
            "5\n"
          ]
        }
      ]
    },
    {
      "cell_type": "markdown",
      "source": [
        "### Section9."
      ],
      "metadata": {
        "id": "rrk8AZhsk-Bx"
      }
    },
    {
      "cell_type": "code",
      "source": [
        "import pandas as pd\n",
        "# df = pd.read_csv(\"type1_data1.csv\")\n",
        "df = pd.read_csv(\"https://raw.githubusercontent.com/lovedlim/bigdata_analyst_cert/main/part1/ch3/type1_data1.csv\")\n",
        "\n",
        "# views수가 1000이하\n",
        "cond = df['views'] <= 1000\n",
        "df = df[cond]\n",
        "\n",
        "# f4컬럼 종류별 개수\n",
        "df = df['f4'].value_counts()\n",
        "\n",
        "# f4컬럼 최빈값\n",
        "print(df.index[0])"
      ],
      "metadata": {
        "colab": {
          "base_uri": "https://localhost:8080/"
        },
        "id": "rYBoJsslj0pq",
        "outputId": "62888e45-a948-42e7-c37f-21fe08378f20"
      },
      "execution_count": null,
      "outputs": [
        {
          "output_type": "stream",
          "name": "stdout",
          "text": [
            "ISFJ\n"
          ]
        }
      ]
    },
    {
      "cell_type": "code",
      "source": [
        "import pandas as pd\n",
        "# df = pd.read_csv(\"type1_data1.csv\")\n",
        "df = pd.read_csv(\"https://raw.githubusercontent.com/lovedlim/bigdata_analyst_cert/main/part1/ch3/type1_data1.csv\")\n",
        "\n",
        "# views수가 1000이하\n",
        "cond = df['views'] <= 1000\n",
        "df = df[cond]\n",
        "\n",
        "# f4컬럼 종류별 개수\n",
        "print(df['f4'].mode()[0])"
      ],
      "metadata": {
        "colab": {
          "base_uri": "https://localhost:8080/"
        },
        "id": "QQ4e8rs1AGJe",
        "outputId": "444d4b47-cefb-4c0c-bd03-822f209fde19"
      },
      "execution_count": null,
      "outputs": [
        {
          "output_type": "stream",
          "name": "stdout",
          "text": [
            "ISFJ\n"
          ]
        }
      ]
    },
    {
      "cell_type": "markdown",
      "source": [
        "### Section10."
      ],
      "metadata": {
        "id": "TgO7R8c8f49P"
      }
    },
    {
      "cell_type": "code",
      "source": [
        "import pandas as pd\n",
        "# df = pd.read_csv(\"type1_data1.csv\")\n",
        "df = pd.read_csv(\"https://raw.githubusercontent.com/lovedlim/bigdata_analyst_cert/main/part1/ch3/type1_data1.csv\")\n",
        "\n",
        "# 결측치가 있는 행은 삭제하고\n",
        "df.dropna(inplace=True)\n",
        "\n",
        "# 지역별 평균 계산\n",
        "df = df.groupby(['city']).mean(numeric_only=True) # 시험환경은 mean() 사용\n",
        "\n",
        "# 'f2'컬럼이 가장 큰 지역 출력\n",
        "print(df.sort_values(\"f2\", ascending = False).index[0])"
      ],
      "metadata": {
        "colab": {
          "base_uri": "https://localhost:8080/"
        },
        "id": "SVAm1nibj1Hu",
        "outputId": "36860fdd-2893-4d72-80f1-ad06be9181fa"
      },
      "execution_count": null,
      "outputs": [
        {
          "output_type": "stream",
          "name": "stdout",
          "text": [
            "서울\n"
          ]
        }
      ]
    },
    {
      "cell_type": "code",
      "source": [
        "import pandas as pd\n",
        "# df = pd.read_csv(\"type1_data1.csv\")\n",
        "df = pd.read_csv(\"https://raw.githubusercontent.com/lovedlim/bigdata_analyst_cert/main/part1/ch3/type1_data1.csv\")\n",
        "\n",
        "# 결측치가 있는 행은 삭제하고\n",
        "df.dropna(inplace=True)\n",
        "\n",
        "# 지역별 평균 계산\n",
        "df = df.groupby('city').mean(numeric_only=True) # 시험환경은 mean() 사용\n",
        "\n",
        "# 'f2'컬럼이 가장 큰 지역 출력\n",
        "print(df['f2'].idxmax())\n"
      ],
      "metadata": {
        "colab": {
          "base_uri": "https://localhost:8080/"
        },
        "id": "zz6ttce-hq0G",
        "outputId": "92d6f504-357f-4129-f86b-b39ca97765d6"
      },
      "execution_count": null,
      "outputs": [
        {
          "output_type": "stream",
          "name": "stdout",
          "text": [
            "서울\n"
          ]
        }
      ]
    },
    {
      "cell_type": "markdown",
      "source": [
        "### Section11."
      ],
      "metadata": {
        "id": "upHoC0eb7CC0"
      }
    },
    {
      "cell_type": "code",
      "source": [
        "import pandas as pd\n",
        "# df = pd.read_csv(\"type1_data1.csv\")\n",
        "df = pd.read_csv(\"https://raw.githubusercontent.com/lovedlim/bigdata_analyst_cert/main/part1/ch3/type1_data1.csv\")\n",
        "\n",
        "# 결측치가 있는 행 제거\n",
        "df.dropna(inplace=True)\n",
        "\n",
        "# 70% 지점\n",
        "end = int(len(df) * 0.7)\n",
        "\n",
        "# 70% 데이터 슬라이싱\n",
        "df = df.iloc[:end]\n",
        "\n",
        "# 3사분위수, 1사분위수\n",
        "q3 = df['views'].quantile(.75)\n",
        "q1 = df['views'].quantile(.25)\n",
        "\n",
        "# 결과 출력\n",
        "print(int(q3 - q1))"
      ],
      "metadata": {
        "colab": {
          "base_uri": "https://localhost:8080/"
        },
        "id": "HAeSMA747N_I",
        "outputId": "df33078b-e5c3-4b1e-f111-d29bd79a03bd"
      },
      "execution_count": null,
      "outputs": [
        {
          "output_type": "stream",
          "name": "stdout",
          "text": [
            "2771\n"
          ]
        }
      ]
    },
    {
      "cell_type": "markdown",
      "source": [
        "### Section12."
      ],
      "metadata": {
        "id": "kmcKIuaz_wRx"
      }
    },
    {
      "cell_type": "code",
      "source": [
        "import pandas as pd\n",
        "# df = pd.read_csv(\"type1_data1.csv\")\n",
        "df = pd.read_csv(\"https://raw.githubusercontent.com/lovedlim/bigdata_analyst_cert/main/part1/ch3/type1_data1.csv\")\n",
        "\n",
        "# 결측치가 가장 많은 컬럼, 출력 결과로 확인\n",
        "#print(df.isnull().sum())\n",
        "\n",
        "# 결측치가 가장 많은 컬럼 제거\n",
        "df = df.dropna(subset=['f1'])\n",
        "\n",
        "# 두번째로 가장 결측치가 많은 컬럼 최빈값 대체\n",
        "freq = df['f3'].mode()[0]\n",
        "df['f3'].fillna(freq, inplace=True)\n",
        "\n",
        "# f3컬럼이 gold인 데이터의 수\n",
        "print(sum(df['f3'] == 'gold'))"
      ],
      "metadata": {
        "colab": {
          "base_uri": "https://localhost:8080/"
        },
        "id": "x8G4a2Jp_zy-",
        "outputId": "bb09f249-93b3-4b72-a7dd-edb73fa5bbef"
      },
      "execution_count": null,
      "outputs": [
        {
          "output_type": "stream",
          "name": "stdout",
          "text": [
            "63\n"
          ]
        },
        {
          "output_type": "stream",
          "name": "stderr",
          "text": [
            "<ipython-input-92-9255fa2d5c93>:13: FutureWarning: A value is trying to be set on a copy of a DataFrame or Series through chained assignment using an inplace method.\n",
            "The behavior will change in pandas 3.0. This inplace method will never work because the intermediate object on which we are setting values always behaves as a copy.\n",
            "\n",
            "For example, when doing 'df[col].method(value, inplace=True)', try using 'df.method({col: value}, inplace=True)' or df[col] = df[col].method(value) instead, to perform the operation inplace on the original object.\n",
            "\n",
            "\n",
            "  df['f3'].fillna(freq, inplace=True)\n"
          ]
        }
      ]
    },
    {
      "cell_type": "code",
      "source": [
        "# FutureWarning 해결 버전\n",
        "import pandas as pd\n",
        "# df = pd.read_csv(\"type1_data1.csv\")\n",
        "df = pd.read_csv(\"https://raw.githubusercontent.com/lovedlim/bigdata_analyst_cert/main/part1/ch3/type1_data1.csv\")\n",
        "\n",
        "# 결측치가 가장 많은 컬럼, 출력 결과로 확인\n",
        "#print(df.isnull().sum())\n",
        "\n",
        "# 결측치가 가장 많은 컬럼 제거\n",
        "df = df.dropna(subset=['f1'])\n",
        "\n",
        "# 두번째로 가장 결측치가 많은 컬럼 최빈값 대체\n",
        "freq = df['f3'].mode()[0]\n",
        "df['f3'] = df['f3'].fillna(freq)\n",
        "\n",
        "# f3컬럼이 gold인 데이터의 수\n",
        "print(sum(df['f3'] == 'gold'))"
      ],
      "metadata": {
        "colab": {
          "base_uri": "https://localhost:8080/"
        },
        "id": "RVK8e8JCqG12",
        "outputId": "757181a6-6ec7-4f52-db95-a5e594647e28"
      },
      "execution_count": null,
      "outputs": [
        {
          "output_type": "stream",
          "name": "stdout",
          "text": [
            "63\n"
          ]
        }
      ]
    },
    {
      "cell_type": "code",
      "source": [
        "import pandas as pd\n",
        "# df = pd.read_csv(\"type1_data1.csv\")\n",
        "df = pd.read_csv(\"https://raw.githubusercontent.com/lovedlim/bigdata_analyst_cert/main/part1/ch3/type1_data1.csv\")\n",
        "\n",
        "# 결측치가 가장 많은 컬럼\n",
        "col = df.isnull().sum().idxmax()\n",
        "\n",
        "# 결측치가 가장 많은 컬럼 제거\n",
        "df = df.dropna(subset=[col])\n",
        "\n",
        "# 두번째로 가장 결측치가 많은 컬럼 최빈값 대체\n",
        "freq = df['f3'].mode()[0]\n",
        "df['f3'] = df['f3'].fillna(freq)\n",
        "\n",
        "# f3컬럼이 gold인 데이터의 수\n",
        "print(len(df[df['f3'] == 'gold']))"
      ],
      "metadata": {
        "colab": {
          "base_uri": "https://localhost:8080/"
        },
        "id": "vKWjyP9KEmZO",
        "outputId": "1d11899e-5f2c-48cd-fd0c-cd16b5208e2e"
      },
      "execution_count": null,
      "outputs": [
        {
          "output_type": "stream",
          "name": "stdout",
          "text": [
            "63\n"
          ]
        }
      ]
    },
    {
      "cell_type": "markdown",
      "source": [
        "### Section13."
      ],
      "metadata": {
        "id": "Zz1RT2JFC7iz"
      }
    },
    {
      "cell_type": "code",
      "source": [
        "import pandas as pd\n",
        "# df = pd.read_csv(\"type1_data1.csv\")\n",
        "df = pd.read_csv(\"https://raw.githubusercontent.com/lovedlim/bigdata_analyst_cert/main/part1/ch3/type1_data1.csv\")\n",
        "\n",
        "# 결측치가 있는 데이터 True / False\n",
        "cond = df['f1'].isnull()\n",
        "\n",
        "# 결측치가 있는 데이터 선택\n",
        "df = df[cond]\n",
        "\n",
        "# age의 평균값을 구하시오\n",
        "result = df['age'].mean()\n",
        "\n",
        "# 소수 첫째자리 까지 출력\n",
        "print(round(result, 1))"
      ],
      "metadata": {
        "colab": {
          "base_uri": "https://localhost:8080/"
        },
        "id": "HAYA4FhMCIKx",
        "outputId": "b47ed1b6-d2a1-4c89-ce0c-dc68441981e7"
      },
      "execution_count": null,
      "outputs": [
        {
          "output_type": "stream",
          "name": "stdout",
          "text": [
            "53.6\n"
          ]
        }
      ]
    },
    {
      "cell_type": "markdown",
      "source": [
        "### Section14."
      ],
      "metadata": {
        "id": "1wY-DwCKFjm1"
      }
    },
    {
      "cell_type": "code",
      "source": [
        "import pandas as pd\n",
        "# df = pd.read_csv(\"type1_data1.csv\")\n",
        "df = pd.read_csv(\"https://raw.githubusercontent.com/lovedlim/bigdata_analyst_cert/main/part1/ch3/type1_data1.csv\")\n",
        "\n",
        "# 중복데이터 제거\n",
        "df.drop_duplicates(inplace=True)\n",
        "\n",
        "# 값 대체\n",
        "import numpy as np\n",
        "df['f3'] = df['f3'].replace(np.nan,0).replace('silver',1).replace('gold',2).replace('vip',3)\n",
        "\n",
        "# f3컬럼의 총합 (정수형으로 출력)\n",
        "print(int(df['f3'].sum()))"
      ],
      "metadata": {
        "colab": {
          "base_uri": "https://localhost:8080/"
        },
        "id": "HhgaIWypFmlo",
        "outputId": "bb6f1b24-010b-405c-bf6f-0a9de7b9792a"
      },
      "execution_count": null,
      "outputs": [
        {
          "output_type": "stream",
          "name": "stdout",
          "text": [
            "167\n"
          ]
        },
        {
          "output_type": "stream",
          "name": "stderr",
          "text": [
            "<ipython-input-96-b23fe472b5d5>:10: FutureWarning: Downcasting behavior in `replace` is deprecated and will be removed in a future version. To retain the old behavior, explicitly call `result.infer_objects(copy=False)`. To opt-in to the future behavior, set `pd.set_option('future.no_silent_downcasting', True)`\n",
            "  df['f3'] = df['f3'].replace(np.nan,0).replace('silver',1).replace('gold',2).replace('vip',3)\n"
          ]
        }
      ]
    },
    {
      "cell_type": "code",
      "source": [
        "# 방법2\n",
        "import pandas as pd\n",
        "# df = pd.read_csv(\"type1_data1.csv\")\n",
        "df = pd.read_csv(\"https://raw.githubusercontent.com/lovedlim/bigdata_analyst_cert/main/part1/ch3/type1_data1.csv\")\n",
        "\n",
        "# 중복데이터 제거\n",
        "df.drop_duplicates(inplace=True)\n",
        "\n",
        "# 계산\n",
        "r1 = sum(df['f3'] == 'silver') * 1\n",
        "r2 = sum(df['f3'] == 'gold') * 2\n",
        "r3 = sum(df['f3'] == 'vip') * 3\n",
        "print(r1 + r2 + r3)"
      ],
      "metadata": {
        "colab": {
          "base_uri": "https://localhost:8080/"
        },
        "id": "-4nnZd4PHblL",
        "outputId": "cadfbd72-828f-4446-aa5e-f6c7c5f23be7"
      },
      "execution_count": null,
      "outputs": [
        {
          "output_type": "stream",
          "name": "stdout",
          "text": [
            "167\n"
          ]
        }
      ]
    },
    {
      "cell_type": "markdown",
      "source": [
        "### Section15."
      ],
      "metadata": {
        "id": "_5wI5LtEIg7z"
      }
    },
    {
      "cell_type": "code",
      "source": [
        "import pandas as pd\n",
        "# df = pd.read_csv(\"type1_data1.csv\")\n",
        "df = pd.read_csv(\"https://raw.githubusercontent.com/lovedlim/bigdata_analyst_cert/main/part1/ch3/type1_data1.csv\")\n",
        "\n",
        "# 자료형이 object 컬럼 선택\n",
        "cols = df.select_dtypes(exclude='object').columns\n",
        "df = df[cols]\n",
        "\n",
        "# 결측치 0으로 대체\n",
        "df = df.fillna(0)\n",
        "\n",
        "# 행과 열 변경\n",
        "df = df.T\n",
        "\n",
        "# 행별 합이 3000이상인 데이터 수\n",
        "print(sum(df.sum() > 3000))"
      ],
      "metadata": {
        "colab": {
          "base_uri": "https://localhost:8080/"
        },
        "id": "UsweG-C8Ikfx",
        "outputId": "74e889d4-be60-4ab4-bed0-cebe35c6199e"
      },
      "execution_count": null,
      "outputs": [
        {
          "output_type": "stream",
          "name": "stdout",
          "text": [
            "88\n"
          ]
        }
      ]
    },
    {
      "cell_type": "markdown",
      "source": [
        "### Section16."
      ],
      "metadata": {
        "id": "czzQ7mCZK85p"
      }
    },
    {
      "cell_type": "code",
      "source": [
        "import pandas as pd\n",
        "# df = pd.read_csv(\"type1_data1.csv\")\n",
        "df = pd.read_csv(\"https://raw.githubusercontent.com/lovedlim/bigdata_analyst_cert/main/part1/ch3/type1_data1.csv\")\n",
        "\n",
        "# 3사분위 1사분위\n",
        "q3 = df['views'].quantile(.75)\n",
        "q1 = df['views'].quantile(.25)\n",
        "\n",
        "# IQR 계산\n",
        "IQR = q3 - q1\n",
        "\n",
        "# 이상치 기준 찾기\n",
        "line1 = q1 - 1.5 * IQR\n",
        "line2 = q3 + 1.5 * IQR\n",
        "\n",
        "# 이상치 조건에 만족하는 데이터 찾기\n",
        "cond1 = df['views'] < line1\n",
        "cond2 = df['views'] > line2\n",
        "df = df[cond1 | cond2]\n",
        "\n",
        "# views 컬럼 합\n",
        "print(int(df['views'].sum()))"
      ],
      "metadata": {
        "colab": {
          "base_uri": "https://localhost:8080/"
        },
        "id": "q8bwlASyK3KM",
        "outputId": "9d4b2502-9074-4761-ff09-c3012936689a"
      },
      "execution_count": null,
      "outputs": [
        {
          "output_type": "stream",
          "name": "stdout",
          "text": [
            "77699\n"
          ]
        }
      ]
    },
    {
      "cell_type": "markdown",
      "source": [
        "### Section17."
      ],
      "metadata": {
        "id": "bs-cfwPHM_Oo"
      }
    },
    {
      "cell_type": "code",
      "source": [
        "import pandas as pd\n",
        "# df = pd.read_csv(\"type1_data1.csv\")\n",
        "df = pd.read_csv(\"https://raw.githubusercontent.com/lovedlim/bigdata_analyst_cert/main/part1/ch3/type1_data1.csv\")\n",
        "\n",
        "# 표준편차\n",
        "r1 = df['views'].std()\n",
        "\n",
        "# 음수이거나 0 테이터 제외\n",
        "cond = df['age'] <= 0\n",
        "df = df[~cond]\n",
        "\n",
        "# 소수점이 없는 값만 선택\n",
        "cond = df['age'] == round(df['age'],0)\n",
        "df = df[cond]\n",
        "\n",
        "# 표준편차\n",
        "r2 = df['views'].std()\n",
        "\n",
        "print(round(r1 + r2, 2))"
      ],
      "metadata": {
        "colab": {
          "base_uri": "https://localhost:8080/"
        },
        "id": "A2lQ6p8YNB0s",
        "outputId": "b7a70e6f-964b-4cd5-b2e9-e21978b6daad"
      },
      "execution_count": null,
      "outputs": [
        {
          "output_type": "stream",
          "name": "stdout",
          "text": [
            "8297.31\n"
          ]
        }
      ]
    },
    {
      "cell_type": "markdown",
      "source": [
        "### Section18."
      ],
      "metadata": {
        "id": "Uvi2VH67Od_9"
      }
    },
    {
      "cell_type": "code",
      "source": [
        "import pandas as pd\n",
        "# df = pd.read_csv(\"type1_data2.csv\", index_col=\"year\")\n",
        "df = pd.read_csv(\"https://raw.githubusercontent.com/lovedlim/bigdata_analyst_cert/main/part1/ch3/type1_data2.csv\", index_col=\"year\")\n",
        "\n",
        "# 2001, 평균보다 큰값 합계\n",
        "m1 = df.loc[2001].mean()\n",
        "cond1 = df.loc[2001] > m1\n",
        "r1 = sum(cond1)\n",
        "\n",
        "# 2003평균보다 작은값 합계\n",
        "m2 = df.loc[2003].mean()\n",
        "cond2 = df.loc[2003] < m2\n",
        "r2 = sum(cond2)\n",
        "\n",
        "print(r1+r2)"
      ],
      "metadata": {
        "colab": {
          "base_uri": "https://localhost:8080/"
        },
        "id": "x-3LbkaGQEdp",
        "outputId": "8d926580-60c3-4178-bc71-1b97e70b92c9"
      },
      "execution_count": null,
      "outputs": [
        {
          "output_type": "stream",
          "name": "stdout",
          "text": [
            "202\n"
          ]
        }
      ]
    },
    {
      "cell_type": "code",
      "source": [
        "import pandas as pd\n",
        "# df = pd.read_csv(\"type1_data2.csv\", index_col=\"year\")\n",
        "df = pd.read_csv(\"https://raw.githubusercontent.com/lovedlim/bigdata_analyst_cert/main/part1/ch3/type1_data2.csv\", index_col=\"year\")\n",
        "df = df.T # 행과 열 변경\n",
        "\n",
        "# 평균보다 큰값 합계\n",
        "m1 = df[2001].mean()\n",
        "cond1 = df[2001] > m1\n",
        "r1 = sum(cond1)\n",
        "\n",
        "# 평균보다 작은값 합계\n",
        "m2 = df[2003].mean()\n",
        "cond2 = df[2003] < m2\n",
        "r2 = sum(cond2)\n",
        "\n",
        "print(r1+r2)"
      ],
      "metadata": {
        "colab": {
          "base_uri": "https://localhost:8080/"
        },
        "id": "JncpmT-fB347",
        "outputId": "117edfe4-ad5b-4b05-8c67-fb093531eee4"
      },
      "execution_count": null,
      "outputs": [
        {
          "output_type": "stream",
          "name": "stdout",
          "text": [
            "202\n"
          ]
        }
      ]
    },
    {
      "cell_type": "markdown",
      "source": [
        "### Section19."
      ],
      "metadata": {
        "id": "zuCLLKHuRF68"
      }
    },
    {
      "cell_type": "code",
      "source": [
        "import pandas as pd\n",
        "# df = pd.read_csv(\"type1_data1.csv\")\n",
        "df = pd.read_csv(\"https://raw.githubusercontent.com/lovedlim/bigdata_analyst_cert/main/part1/ch3/type1_data1.csv\")\n",
        "\n",
        "# 결측치 채우기\n",
        "df = df.fillna(method='bfill')\n",
        "\n",
        "# city와 f2기준 그룹합 계산\n",
        "df = df.groupby(['city','f2']).sum(numeric_only=True).reset_index()\n",
        "\n",
        "# 내림차순 정렬\n",
        "df = df.sort_values('views', ascending=False)\n",
        "\n",
        "# 3번째로 큰 값 출력\n",
        "print(df.iloc[2,0])"
      ],
      "metadata": {
        "colab": {
          "base_uri": "https://localhost:8080/"
        },
        "id": "3nf3FldiRQRi",
        "outputId": "31882c09-cbb6-4ff5-8cb5-492521ec45f8"
      },
      "execution_count": null,
      "outputs": [
        {
          "output_type": "stream",
          "name": "stdout",
          "text": [
            "경기\n"
          ]
        },
        {
          "output_type": "stream",
          "name": "stderr",
          "text": [
            "<ipython-input-103-0b683dda5833>:6: FutureWarning: DataFrame.fillna with 'method' is deprecated and will raise in a future version. Use obj.ffill() or obj.bfill() instead.\n",
            "  df = df.fillna(method='bfill')\n"
          ]
        }
      ]
    },
    {
      "cell_type": "markdown",
      "source": [
        "### Section20."
      ],
      "metadata": {
        "id": "4PpSgq4URj1E"
      }
    },
    {
      "cell_type": "code",
      "source": [
        "import pandas as pd\n",
        "# df = pd.read_csv(\"type1_data1.csv\")\n",
        "df = pd.read_csv(\"https://raw.githubusercontent.com/lovedlim/bigdata_analyst_cert/main/part1/ch3/type1_data1.csv\")\n",
        "\n",
        "# 자료형 변환\n",
        "df['subscribed'] = pd.to_datetime(df['subscribed'])\n",
        "\n",
        "# 파생변수 생성\n",
        "df['month'] = df['subscribed'].dt.month\n",
        "\n",
        "# 월별로 데이터 합 집계\n",
        "df = df.groupby('month').sum(numeric_only=True)\n",
        "\n",
        "# 오름차순 정렬 및 가장 작은값 출력\n",
        "print(df.sort_values('views').index[0])"
      ],
      "metadata": {
        "colab": {
          "base_uri": "https://localhost:8080/"
        },
        "id": "DfHTMhLdR2G4",
        "outputId": "eb9d70d3-e2bf-42d2-b62a-e04197ecf1ad"
      },
      "execution_count": null,
      "outputs": [
        {
          "output_type": "stream",
          "name": "stdout",
          "text": [
            "11\n"
          ]
        }
      ]
    },
    {
      "cell_type": "markdown",
      "source": [
        "### Section21."
      ],
      "metadata": {
        "id": "_VaGdUm5Jvha"
      }
    },
    {
      "cell_type": "code",
      "source": [
        "import pandas as pd\n",
        "# df = pd.read_csv(\"delivery_time.csv\")\n",
        "df = pd.read_csv(\"https://raw.githubusercontent.com/lovedlim/bigdata_analyst_cert/main/part1/ch3/delivery_time.csv\")\n",
        "\n",
        "# datetime으로 자료형 변경\n",
        "df['실제도착시간'] = pd.to_datetime(df['실제도착시간'])\n",
        "df['예상도착시간'] = pd.to_datetime(df['예상도착시간'])\n",
        "\n",
        "# 지연시간 계산(분)\n",
        "df['지연시간'] = (df['실제도착시간'] - df['예상도착시간']).dt.total_seconds()/60\n",
        "\n",
        "# 조건1 - 예상 도착시간보다 늦게 도착한 건\n",
        "cond1 = df['지연시간'] > 0\n",
        "\n",
        "# 조건2 - 거리가 7 이상인 건\n",
        "cond2 = df['거리'] >= 7\n",
        "\n",
        "# 조건에 맞는 데이터(행) 수 출력\n",
        "print(len(df[cond1 & cond2]))"
      ],
      "metadata": {
        "colab": {
          "base_uri": "https://localhost:8080/"
        },
        "id": "Q_inq7MObx64",
        "outputId": "0869e661-bdb5-4a95-cab3-c8af944a987d"
      },
      "execution_count": null,
      "outputs": [
        {
          "output_type": "stream",
          "name": "stdout",
          "text": [
            "311\n"
          ]
        }
      ]
    },
    {
      "cell_type": "markdown",
      "source": [
        "### Section22."
      ],
      "metadata": {
        "id": "1qbnwrbQJz52"
      }
    },
    {
      "cell_type": "code",
      "source": [
        "import pandas as pd\n",
        "# df = pd.read_csv(\"delivery_time.csv\")\n",
        "df = pd.read_csv(\"https://raw.githubusercontent.com/lovedlim/bigdata_analyst_cert/main/part1/ch3/delivery_time.csv\")\n",
        "\n",
        "# datetime으로 자료형 변경\n",
        "df['실제도착시간'] = pd.to_datetime(df['실제도착시간'])\n",
        "df['주문시간'] = pd.to_datetime(df['주문시간'])\n",
        "\n",
        "# 실제 도착시간과 주문시간 차이 계산(분)\n",
        "df['diff'] = (df['실제도착시간'] - df['주문시간']).dt.total_seconds()/60\n",
        "\n",
        "# 앱종류별 도착시간과 주문시간 차이의 평균 계산\n",
        "df = df.groupby('앱종류')['diff'].mean()\n",
        "\n",
        "# 가장 작은 시간(분) 반올림 후 출력\n",
        "print(round(df.min()))"
      ],
      "metadata": {
        "id": "apFpK_tAJzZ8",
        "colab": {
          "base_uri": "https://localhost:8080/"
        },
        "outputId": "ac1a8bc0-0828-4f0a-f864-d9f10d7e5e95"
      },
      "execution_count": null,
      "outputs": [
        {
          "output_type": "stream",
          "name": "stdout",
          "text": [
            "62\n"
          ]
        }
      ]
    },
    {
      "cell_type": "markdown",
      "source": [
        "### Section23."
      ],
      "metadata": {
        "id": "dHGcmLvRJ1fy"
      }
    },
    {
      "cell_type": "code",
      "source": [
        "import pandas as pd\n",
        "# df = pd.read_csv(\"delivery_time.csv\")\n",
        "df = pd.read_csv(\"https://raw.githubusercontent.com/lovedlim/bigdata_analyst_cert/main/part1/ch3/delivery_time.csv\")\n",
        "\n",
        "# datetime 자료형으로 변경\n",
        "df['실제도착시간'] = pd.to_datetime(df['실제도착시간'])\n",
        "df['예상도착시간'] = pd.to_datetime(df['예상도착시간'])\n",
        "\n",
        "# 지연시간 계산(분)\n",
        "df['지연시간'] = (df['실제도착시간'] - df['예상도착시간']).dt.total_seconds() / 60  # 분 단위로 계산\n",
        "\n",
        "# 실제 도착시간이 예상 도착시간보다 늦은 경우를 체크하는 컬럼 생성\n",
        "df['지연여부'] = df['지연시간'] > 0\n",
        "\n",
        "# 결제 종류별 지연된 주문의 비율 계산\n",
        "result = df.groupby('결제종류')['지연여부'].mean()\n",
        "\n",
        "# 가장 비율이 높은 값\n",
        "print(round(result.max(), 2))"
      ],
      "metadata": {
        "id": "FuLpNI5yJziX",
        "colab": {
          "base_uri": "https://localhost:8080/"
        },
        "outputId": "edafc114-4e88-44ce-d9f6-c6fa3725f065"
      },
      "execution_count": null,
      "outputs": [
        {
          "output_type": "stream",
          "name": "stdout",
          "text": [
            "0.56\n"
          ]
        }
      ]
    },
    {
      "cell_type": "markdown",
      "source": [
        "### Section24."
      ],
      "metadata": {
        "id": "fy4e8_O271u-"
      }
    },
    {
      "cell_type": "code",
      "source": [
        "import pandas as pd\n",
        "# df = pd.read_csv(\"delivery_time.csv\")\n",
        "df = pd.read_csv(\"https://raw.githubusercontent.com/lovedlim/bigdata_analyst_cert/main/part1/ch3/delivery_time.csv\")\n",
        "df.head()\n",
        "\n",
        "# 사용자별로 주문 거리의 합계와 평균 계산\n",
        "df_distance = df.groupby('user')['거리'].sum()\n",
        "\n",
        "# 주문 거리의 합계가 50km 이상인 사용자만 필터링\n",
        "cond = df_distance >= 50\n",
        "df_distance = df_distance[cond]\n",
        "\n",
        "# 주문 거리의 합계가 50km 이상인 사용자들의 데이터 필터링\n",
        "filtered_data = df[df['user'].isin(df_distance.index)]\n",
        "filtered_data\n",
        "\n",
        "# 해당 사용자들의 선호 결제 방식 중 큰 값\n",
        "payment_method = filtered_data['결제종류'].value_counts()\n",
        "print(payment_method[0])"
      ],
      "metadata": {
        "id": "61UVl8WsJzks",
        "colab": {
          "base_uri": "https://localhost:8080/"
        },
        "outputId": "7673f6d4-9f0d-47a7-c1ac-cbdec45a6841"
      },
      "execution_count": null,
      "outputs": [
        {
          "output_type": "stream",
          "name": "stdout",
          "text": [
            "48\n"
          ]
        },
        {
          "output_type": "stream",
          "name": "stderr",
          "text": [
            "<ipython-input-108-58f0cd49ad9f>:19: FutureWarning: Series.__getitem__ treating keys as positions is deprecated. In a future version, integer keys will always be treated as labels (consistent with DataFrame behavior). To access a value by position, use `ser.iloc[pos]`\n",
            "  print(payment_method[0])\n"
          ]
        }
      ]
    },
    {
      "cell_type": "markdown",
      "source": [
        "### Section25."
      ],
      "metadata": {
        "id": "-U-07CoFWCUK"
      }
    },
    {
      "cell_type": "code",
      "source": [
        "import pandas as pd\n",
        "# df = pd.read_csv(\"delivery_time.csv\")\n",
        "df = pd.read_csv(\"https://raw.githubusercontent.com/lovedlim/bigdata_analyst_cert/main/part1/ch3/delivery_time.csv\")\n",
        "\n",
        "# 각 사용자별로 첫 주문과 마지막 주문 사이의 시간 간격(일 단위)을 계산\n",
        "df['주문시간'] = pd.to_datetime(df['주문시간'])\n",
        "min_order_time = df.groupby('user')['주문시간'].min()\n",
        "max_order_time = df.groupby('user')['주문시간'].max()\n",
        "time_interval = (max_order_time - min_order_time).dt.days\n",
        "\n",
        "# 1회 이하 주문 제외\n",
        "cond1 = time_interval>0\n",
        "m = time_interval[cond1].mean()\n",
        "\n",
        "# 평균보다 기간이 긴 유저 수\n",
        "cond2 = time_interval > m\n",
        "print(len(time_interval[cond2]))"
      ],
      "metadata": {
        "id": "TIJ4FisqX6K_",
        "colab": {
          "base_uri": "https://localhost:8080/"
        },
        "outputId": "7d7a48c6-ec90-445c-f8c2-4c53d7b75a70"
      },
      "execution_count": null,
      "outputs": [
        {
          "output_type": "stream",
          "name": "stdout",
          "text": [
            "146\n"
          ]
        }
      ]
    },
    {
      "cell_type": "markdown",
      "source": [
        "### Section26."
      ],
      "metadata": {
        "id": "-s8mvo6TvcNR"
      }
    },
    {
      "cell_type": "code",
      "source": [
        "import pandas as pd\n",
        "# df = pd.read_csv(\"delivery_time.csv\")\n",
        "df = pd.read_csv(\"https://raw.githubusercontent.com/lovedlim/bigdata_analyst_cert/main/part1/ch3/delivery_time.csv\")\n",
        "\n",
        "# 주문이 가장 많이 발생한 연-월 찾기\n",
        "df['주문시간'] = pd.to_datetime(df['주문시간'])\n",
        "df['주문월'] = df['주문시간'].dt.to_period('M')\n",
        "year_month = df['주문월'].value_counts().idxmax()\n",
        "\n",
        "# 해당 연-월에 배고팡 앱을 통한 주문 중, '앱결제'로 결제된 주문의 비율 계산\n",
        "cond1 = df['주문월'] == year_month\n",
        "cond2 = df['앱종류'] == '배고팡'\n",
        "filtered_df = df[cond1 & cond2]\n",
        "cond3 = filtered_df['결제종류'] == '앱결제'\n",
        "result = len(filtered_df[cond3])/len(filtered_df)\n",
        "print(round(result,2))"
      ],
      "metadata": {
        "id": "-3nDBTHesH-e",
        "colab": {
          "base_uri": "https://localhost:8080/"
        },
        "outputId": "896308e6-93e5-43cb-bce9-4ba34babe467"
      },
      "execution_count": null,
      "outputs": [
        {
          "output_type": "stream",
          "name": "stdout",
          "text": [
            "0.31\n"
          ]
        }
      ]
    },
    {
      "cell_type": "markdown",
      "source": [
        "### Section27."
      ],
      "metadata": {
        "id": "CnpKbKtyWC4V"
      }
    },
    {
      "cell_type": "code",
      "source": [
        "import pandas as pd\n",
        "# df = pd.read_csv(\"delivery_time.csv\")\n",
        "df = pd.read_csv(\"https://raw.githubusercontent.com/lovedlim/bigdata_analyst_cert/main/part1/ch3/delivery_time.csv\")\n",
        "\n",
        "# datetime 자료형으로 변경\n",
        "df['주문시간'] = pd.to_datetime(df['주문시간'])\n",
        "df['실제도착시간'] = pd.to_datetime(df['실제도착시간'])\n",
        "\n",
        "# 점심시간 주문 선택\n",
        "df['시간'] = df['주문시간'].dt.hour\n",
        "cond1 = df['시간'] >= 10\n",
        "cond2 = df['시간'] < 13\n",
        "df = df[cond1 & cond2]\n",
        "\n",
        "# 속도(km/h) = 거리(km) / 시간(h)\n",
        "df['배달시간'] = df['실제도착시간'] - df['주문시간']\n",
        "df['배달시간'] = df['배달시간'].dt.total_seconds() / 60 / 60 # 시간 단위로 변경\n",
        "df['속도'] = df['거리'] / df['배달시간']\n",
        "sum(df['속도'] >= 50)"
      ],
      "metadata": {
        "id": "RUAg4sT2WFzj",
        "colab": {
          "base_uri": "https://localhost:8080/"
        },
        "outputId": "b0ac4388-fee4-450c-f613-40012d608614"
      },
      "execution_count": null,
      "outputs": [
        {
          "output_type": "execute_result",
          "data": {
            "text/plain": [
              "1"
            ]
          },
          "metadata": {},
          "execution_count": 111
        }
      ]
    },
    {
      "cell_type": "markdown",
      "source": [
        "### Section28."
      ],
      "metadata": {
        "id": "KrdTvruoWGFP"
      }
    },
    {
      "cell_type": "code",
      "source": [
        "import pandas as pd\n",
        "# df = pd.read_csv(\"delivery_time.csv\")\n",
        "df = pd.read_csv(\"https://raw.githubusercontent.com/lovedlim/bigdata_analyst_cert/main/part1/ch3/delivery_time.csv\")\n",
        "\n",
        "# 주문 연월 추출 (연도-월)\n",
        "df['주문시간'] = pd.to_datetime(df['주문시간'])\n",
        "df['주문월'] = df['주문시간'].dt.to_period('M')\n",
        "\n",
        "# 주문월을 기준으로 빈도 수(주문 횟수) 계산\n",
        "count_month = df.groupby('주문월').size()\n",
        "\n",
        "# 주문 횟수가 가장 많은 월의 인덱스 추출\n",
        "year_month = count_month.idxmax()\n",
        "\n",
        "# 문자열로 변경 및 하이픈(-) 제거\n",
        "year_month = str(year_month)\n",
        "result = year_month.replace(\"-\",\"\")\n",
        "print(result)"
      ],
      "metadata": {
        "id": "jgHA5q5iWHke",
        "colab": {
          "base_uri": "https://localhost:8080/"
        },
        "outputId": "51bbdc56-e15e-4359-b160-bb9db347f650"
      },
      "execution_count": null,
      "outputs": [
        {
          "output_type": "stream",
          "name": "stdout",
          "text": [
            "202209\n"
          ]
        }
      ]
    },
    {
      "cell_type": "markdown",
      "source": [
        "### Section29."
      ],
      "metadata": {
        "id": "VDcz3cQIWH93"
      }
    },
    {
      "cell_type": "code",
      "source": [
        "import pandas as pd\n",
        "# df = pd.read_csv(\"delivery_time.csv\")\n",
        "df = pd.read_csv(\"https://raw.githubusercontent.com/lovedlim/bigdata_analyst_cert/main/part1/ch3/delivery_time.csv\")\n",
        "\n",
        "# 배달료 계산 함수 정의\n",
        "def delivery_fee(distance):\n",
        "    if distance < 5:\n",
        "        return 2000\n",
        "    elif distance < 10:\n",
        "        return 4000\n",
        "    elif distance < 15:\n",
        "        return 6000\n",
        "    elif distance < 20:\n",
        "        return 8000\n",
        "\n",
        "# 각 주문에 대한 배달료 계산\n",
        "df['배달료'] = df['거리'].apply(delivery_fee)\n",
        "\n",
        "# 월별로 배달료 집계\n",
        "df['주문시간'] = pd.to_datetime(df['주문시간'])\n",
        "period_M = df['주문시간'].dt.to_period(\"M\")\n",
        "monthly = df.groupby(period_M)['배달료'].sum()\n",
        "\n",
        "# 가장 많은 배달료가 발생한 월과 그 월의 총 배달료 찾기\n",
        "max_fee_month = monthly.idxmax()\n",
        "max_fee_value = monthly[max_fee_month]\n",
        "print(max_fee_value)"
      ],
      "metadata": {
        "id": "OipM5UbYWJG1",
        "colab": {
          "base_uri": "https://localhost:8080/"
        },
        "outputId": "e2d75bcb-a0c3-4902-b988-45bc9e8f6e7d"
      },
      "execution_count": null,
      "outputs": [
        {
          "output_type": "stream",
          "name": "stdout",
          "text": [
            "448000\n"
          ]
        }
      ]
    },
    {
      "cell_type": "markdown",
      "source": [
        "### Section30."
      ],
      "metadata": {
        "id": "1iBC38EkNvlN"
      }
    },
    {
      "cell_type": "code",
      "source": [
        "import pandas as pd\n",
        "# df = pd.read_csv(\"delivery_time.csv\")\n",
        "df = pd.read_csv(\"https://raw.githubusercontent.com/lovedlim/bigdata_analyst_cert/main/part1/ch3/delivery_time.csv\")\n",
        "df['주문시간'] = pd.to_datetime(df['주문시간'])\n",
        "\n",
        "# 주말/평일 구분 0:월, 1:화 ~ 5:토, 6:일\n",
        "df['dayofweek'] = df['주문시간'].dt.dayofweek\n",
        "df['주말'] = df['dayofweek'] >= 5\n",
        "\n",
        "# 주말 개수, 평일 개수 계산\n",
        "weekend = sum(df['주말'])\n",
        "weekday = sum(~df['주말'])\n",
        "\n",
        "# 차이 절대값 출력\n",
        "print(abs(weekend - weekday))"
      ],
      "metadata": {
        "id": "Rjjl0YFwMIOR",
        "colab": {
          "base_uri": "https://localhost:8080/"
        },
        "outputId": "5bb24be3-e5a2-4d95-84c6-5b364896ef2f"
      },
      "execution_count": null,
      "outputs": [
        {
          "output_type": "stream",
          "name": "stdout",
          "text": [
            "412\n"
          ]
        }
      ]
    },
    {
      "cell_type": "markdown",
      "source": [
        "### Section31."
      ],
      "metadata": {
        "id": "SFA4nMg7WJiE"
      }
    },
    {
      "cell_type": "code",
      "source": [
        "import pandas as pd\n",
        "# df = pd.read_csv(\"delivery_time.csv\")\n",
        "df = pd.read_csv(\"https://raw.githubusercontent.com/lovedlim/bigdata_analyst_cert/main/part1/ch3/delivery_time.csv\")\n",
        "\n",
        "# 문자 슬라이싱\n",
        "df['user_int'] = df['user'].str[5:]\n",
        "\n",
        "# 자료형 변환\n",
        "df['user_int'] = df['user_int'].astype(int)\n",
        "\n",
        "# 합계\n",
        "print(df['user_int'].sum())\n"
      ],
      "metadata": {
        "id": "zAi-yt4wWLtj",
        "colab": {
          "base_uri": "https://localhost:8080/"
        },
        "outputId": "da5f51d2-4101-41c9-f65c-2f120defff6d"
      },
      "execution_count": null,
      "outputs": [
        {
          "output_type": "stream",
          "name": "stdout",
          "text": [
            "261387\n"
          ]
        }
      ]
    },
    {
      "cell_type": "markdown",
      "source": [
        "### Section32."
      ],
      "metadata": {
        "id": "m2eNPxcHCQMT"
      }
    },
    {
      "cell_type": "code",
      "source": [
        "import pandas as pd\n",
        "# df = pd.read_csv(\"school_data.csv\")\n",
        "df = pd.read_csv(\"https://raw.githubusercontent.com/lovedlim/bigdata_analyst_cert/main/part1/ch3/school_data.csv\")\n",
        "\n",
        "# 수학, 영어, 국어 점수 합계\n",
        "df['total_score'] = df[['수학', '영어', '국어']].sum(axis=1)\n",
        "\n",
        "# 합계 점수를 기준으로 상위 10명 선택\n",
        "top10 = df.nlargest(10, 'total_score')\n",
        "\n",
        "# 선택된 10명의 수학 평균 점수 계산\n",
        "result = top10['수학'].mean()\n",
        "print(round(result))"
      ],
      "metadata": {
        "id": "xNzYeMWP-iW1",
        "colab": {
          "base_uri": "https://localhost:8080/"
        },
        "outputId": "11e5dd15-9cfa-4167-9c7a-4dd9ed500b87"
      },
      "execution_count": null,
      "outputs": [
        {
          "output_type": "stream",
          "name": "stdout",
          "text": [
            "82\n"
          ]
        }
      ]
    },
    {
      "cell_type": "markdown",
      "source": [
        "### Section33."
      ],
      "metadata": {
        "id": "NvkyoUhwKjpr"
      }
    },
    {
      "cell_type": "code",
      "source": [
        "import pandas as pd\n",
        "# df = pd.read_csv(\"school_data.csv\")\n",
        "df = pd.read_csv(\"https://raw.githubusercontent.com/lovedlim/bigdata_analyst_cert/main/part1/ch3/school_data.csv\")\n",
        "\n",
        "# 이름을 유지하면서 수학, 영어, 국어 형태 변경\n",
        "melted_df = df.melt(id_vars=['이름'], value_vars=['수학', '영어', '국어'])\n",
        "\n",
        "# 가장 작은 값 25개의 합\n",
        "result = melted_df['value'].nsmallest(25).sum()\n",
        "print(result)"
      ],
      "metadata": {
        "id": "Nh9lB7yj-iZd",
        "colab": {
          "base_uri": "https://localhost:8080/"
        },
        "outputId": "e0f34844-d96d-498b-c30b-e83cf5475578"
      },
      "execution_count": null,
      "outputs": [
        {
          "output_type": "stream",
          "name": "stdout",
          "text": [
            "420\n"
          ]
        }
      ]
    },
    {
      "cell_type": "markdown",
      "source": [
        "### Section34."
      ],
      "metadata": {
        "id": "UJGiDOMHKk3l"
      }
    },
    {
      "cell_type": "code",
      "source": [
        "import pandas as pd\n",
        "# df = pd.read_csv(\"school_data.csv\")\n",
        "df = pd.read_csv(\"https://raw.githubusercontent.com/lovedlim/bigdata_analyst_cert/main/part1/ch3/school_data.csv\")\n",
        "# df_science = pd.read_csv(\"school_data_science.csv\")\n",
        "df_science = pd.read_csv(\"https://raw.githubusercontent.com/lovedlim/bigdata_analyst_cert/main/part1/ch3/school_data_science.csv\")\n",
        "\n",
        "# 두 데이터프레임 합치기(axis=1)\n",
        "df = pd.concat([df, df_science], axis=1)\n",
        "\n",
        "# 수평(열)으로 평균 계산\n",
        "df['수영국과 평균'] = df[['수학', '영어', '국어', '과학']].mean(axis=1)\n",
        "\n",
        "# 수학, 영어, 국어, 과학 평균이 60점 이상\n",
        "result = sum(df['수영국과 평균'] >= 60)\n",
        "print(result)"
      ],
      "metadata": {
        "id": "q3A-C3XmKmL4",
        "colab": {
          "base_uri": "https://localhost:8080/"
        },
        "outputId": "f2e8395c-e85e-4d46-c378-718eeb863d17"
      },
      "execution_count": null,
      "outputs": [
        {
          "output_type": "stream",
          "name": "stdout",
          "text": [
            "9\n"
          ]
        }
      ]
    },
    {
      "cell_type": "markdown",
      "source": [
        "### Section35."
      ],
      "metadata": {
        "id": "ShHG0GgUNmlL"
      }
    },
    {
      "cell_type": "code",
      "source": [
        "import pandas as pd\n",
        "# df = pd.read_csv(\"school_data.csv\")\n",
        "df = pd.read_csv(\"https://raw.githubusercontent.com/lovedlim/bigdata_analyst_cert/main/part1/ch3/school_data.csv\")\n",
        "# df_social = pd.read_csv(\"school_data_social.csv\")\n",
        "df_social = pd.read_csv(\"https://raw.githubusercontent.com/lovedlim/bigdata_analyst_cert/main/part1/ch3/school_data_social.csv\")\n",
        "\n",
        "# '이름'을 기준으로 두 데이터프레임 합치기\n",
        "merged_df = pd.merge(df, df_social, on='이름')\n",
        "\n",
        "# 교사 필터링\n",
        "cond1 = merged_df['영어교사'] == '장선생'\n",
        "cond2 = merged_df['사회교사'] == '오선생'\n",
        "\n",
        "# 필터링된 데이터에서 수학점수 합\n",
        "result = merged_df[cond1 & cond2]['수학'].sum()\n",
        "print(result)"
      ],
      "metadata": {
        "id": "osSamxV3Gg5e",
        "colab": {
          "base_uri": "https://localhost:8080/"
        },
        "outputId": "2d93efc3-e6a8-4c69-c242-d94d06dc811c"
      },
      "execution_count": null,
      "outputs": [
        {
          "output_type": "stream",
          "name": "stdout",
          "text": [
            "602\n"
          ]
        }
      ]
    },
    {
      "cell_type": "markdown",
      "source": [
        "### Section36."
      ],
      "metadata": {
        "id": "SHFgX7gSxcga"
      }
    },
    {
      "cell_type": "code",
      "source": [
        "import pandas as pd\n",
        "df = pd.read_csv(\"https://raw.githubusercontent.com/lovedlim/bigdata_analyst_cert_v2/refs/heads/main/part1/ch3/sales.csv\")\n",
        "\n",
        "# 지역별 평균 판매금액 계산 후, 결측값 대체 (transform 사용)\n",
        "m = df.groupby('지역코드')['판매금액'].transform('mean')\n",
        "df['판매금액'] = df['판매금액'].fillna(m)\n",
        "\n",
        "# 각 거래별 해당 지역의 평균 판매금액 구하기\n",
        "df['지역평균'] = df.groupby('지역코드')['판매금액'].transform('mean')\n",
        "\n",
        "# 판매금액과 지역평균의 차이(절대값) 계산하여 새로운 컬럼 생성\n",
        "df['차이'] = abs(df['판매금액'] - df['지역평균'])\n",
        "\n",
        "# 지역별 차이 평균 계산 후, 최대값을 가지는 지역코드 출력\n",
        "result = df.groupby('지역코드')['차이'].mean().idxmax()\n",
        "print(result)"
      ],
      "metadata": {
        "colab": {
          "base_uri": "https://localhost:8080/"
        },
        "id": "1vqkVK3CxdgF",
        "outputId": "ba1aed1d-ce25-463b-f930-b467a980ac7b"
      },
      "execution_count": null,
      "outputs": [
        {
          "output_type": "stream",
          "name": "stdout",
          "text": [
            "103\n"
          ]
        }
      ]
    },
    {
      "cell_type": "markdown",
      "source": [
        "### Section37."
      ],
      "metadata": {
        "id": "RmrFue0Kxees"
      }
    },
    {
      "cell_type": "code",
      "source": [
        "import pandas as pd\n",
        "df = pd.read_csv(\"https://raw.githubusercontent.com/lovedlim/bigdata_analyst_cert_v2/refs/heads/main/part1/ch3/store_sales.csv\")\n",
        "\n",
        "# 매출액 계산\n",
        "df['매출액'] = df['판매수량'] * df['단가']\n",
        "\n",
        "# 요일별 평일/주말 구분 딕셔너리\n",
        "day_mapping = {'월': '평일', '화': '평일', '수': '평일', '목': '평일', '금': '평일',\n",
        "               '토': '주말', '일': '주말'}\n",
        "\n",
        "# 매핑을 활용하여 새로운 열 추가\n",
        "df['구분'] = df['요일'].map(day_mapping)\n",
        "\n",
        "# 매장코드 & 평일/주말별 매출액 합계\n",
        "store_sales = df.groupby(['매장코드', '구분'])['매출액'].sum().unstack()\n",
        "\n",
        "# 평일과 주말 매출액 차이 계산\n",
        "store_sales['차이'] = abs(store_sales['평일'] - store_sales['주말'])\n",
        "\n",
        "# 전체 매장 중 매출액 편차가 가장 큰 매장의 편차 값 찾기\n",
        "store_sales['차이'].max()"
      ],
      "metadata": {
        "colab": {
          "base_uri": "https://localhost:8080/"
        },
        "id": "p6kVuTNcxfRE",
        "outputId": "09925a71-fafc-4cb7-fee7-5aec9572d72c"
      },
      "execution_count": null,
      "outputs": [
        {
          "output_type": "execute_result",
          "data": {
            "text/plain": [
              "241975"
            ]
          },
          "metadata": {},
          "execution_count": 121
        }
      ]
    },
    {
      "cell_type": "markdown",
      "source": [
        "### Section38."
      ],
      "metadata": {
        "id": "698n7B9zxf2i"
      }
    },
    {
      "cell_type": "code",
      "source": [
        "import pandas as pd\n",
        "df = pd.read_csv(\"https://raw.githubusercontent.com/lovedlim/bigdata_analyst_cert_v2/refs/heads/main/part1/ch3/region_sales.csv\")\n",
        "\n",
        "# 피벗 테이블 생성: Region, Channel별로 Product별 Sales 합계 계산\n",
        "pivot_table = pd.pivot_table(df, index=['Region', 'Channel'], columns='Product',\n",
        "                             values='Sales', aggfunc='sum')\n",
        "\n",
        "# A비율 계산: 제품 A의 판매액 ÷ 총매출\n",
        "pivot_table['총매출'] = pivot_table['A'] + pivot_table['B']\n",
        "pivot_table['A비율'] = pivot_table['A'] / pivot_table['총매출']\n",
        "\n",
        "# 최대 A비율 값 출력\n",
        "result = pivot_table['A비율'].max()\n",
        "round(result, 2)"
      ],
      "metadata": {
        "colab": {
          "base_uri": "https://localhost:8080/"
        },
        "id": "J1Tggl3GxgwB",
        "outputId": "753c815a-d829-4440-9bcb-7c1f3cfd57e8"
      },
      "execution_count": null,
      "outputs": [
        {
          "output_type": "execute_result",
          "data": {
            "text/plain": [
              "0.51"
            ]
          },
          "metadata": {},
          "execution_count": 122
        }
      ]
    },
    {
      "cell_type": "markdown",
      "source": [
        "### Section39."
      ],
      "metadata": {
        "id": "48fPmvw7xhI5"
      }
    },
    {
      "cell_type": "code",
      "source": [
        "import pandas as pd\n",
        "df = pd.read_csv('https://raw.githubusercontent.com/lovedlim/bigdata_analyst_cert_v2/refs/heads/main/part1/ch3/monthly_sales.csv')\n",
        "\n",
        "# melt로 Wide(가로) → Long(세로) 변환\n",
        "melted_df = pd.melt(\n",
        "    df,\n",
        "    id_vars='Region',\n",
        "    value_vars=['Jan','Feb','Mar'],\n",
        "    var_name='Month',\n",
        "    value_name='Sales'\n",
        ")\n",
        "\n",
        "# Region, Month별 매출 합계 구하기\n",
        "grouped_sales = melted_df.groupby(['Region', 'Month'])['Sales'].sum().reset_index()\n",
        "\n",
        "# 매출 합계가 1400을 초과하는 건수\n",
        "cond = grouped_sales['Sales'] > 1400\n",
        "len(grouped_sales[cond])"
      ],
      "metadata": {
        "colab": {
          "base_uri": "https://localhost:8080/"
        },
        "id": "Jixm45UjxhwP",
        "outputId": "e98664ed-88b0-45d3-8802-6cfe68df5da1"
      },
      "execution_count": null,
      "outputs": [
        {
          "output_type": "execute_result",
          "data": {
            "text/plain": [
              "6"
            ]
          },
          "metadata": {},
          "execution_count": 123
        }
      ]
    },
    {
      "cell_type": "code",
      "source": [],
      "metadata": {
        "id": "YaZB1BluyQ4Q"
      },
      "execution_count": null,
      "outputs": []
    }
  ]
}