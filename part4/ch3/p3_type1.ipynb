{
  "nbformat": 4,
  "nbformat_minor": 0,
  "metadata": {
    "colab": {
      "provenance": []
    },
    "kernelspec": {
      "name": "python3",
      "display_name": "Python 3"
    },
    "language_info": {
      "name": "python"
    }
  },
  "cells": [
    {
      "cell_type": "markdown",
      "source": [
        "[구글 코랩(Colab)에서 실행하기](https://colab.research.google.com/github/lovedlim/bigdata_analyst_cert_v2/blob/main/part4/ch3/p3_type1.ipynb)\n"
      ],
      "metadata": {
        "id": "LNmnV8r3xZYl"
      }
    },
    {
      "cell_type": "markdown",
      "source": [
        "## 작업형1"
      ],
      "metadata": {
        "id": "uO07g2QeKprH"
      }
    },
    {
      "cell_type": "markdown",
      "source": [
        "### 문제1"
      ],
      "metadata": {
        "id": "6f9i0g9dKvQQ"
      }
    },
    {
      "cell_type": "code",
      "execution_count": 1,
      "metadata": {
        "id": "ShDssNLn6Dw8",
        "colab": {
          "base_uri": "https://localhost:8080/"
        },
        "outputId": "d98e8afc-0221-4c13-fecc-762e538e3ee9"
      },
      "outputs": [
        {
          "output_type": "stream",
          "name": "stdout",
          "text": [
            "57\n"
          ]
        }
      ],
      "source": [
        "import pandas as pd\n",
        "# df = pd.read_csv(\"members.csv\")\n",
        "df = pd.read_csv(\"https://raw.githubusercontent.com/lovedlim/bigdata_analyst_cert/main/part4/ch3/members.csv\")\n",
        "\n",
        "# 1) 결측치가 있는 행 제거 (기본값 axis=0)\n",
        "df = df.dropna()\n",
        "\n",
        "# 2) 앞에서부터 70% 데이터 슬라이싱\n",
        "df = df.iloc[:int(len(df)*0.7)]\n",
        "\n",
        "# 3) 1사분위 값 계산(정수 출력)\n",
        "print(int(df['f1'].quantile(.25)))"
      ]
    },
    {
      "cell_type": "code",
      "source": [
        "# df.head()\n",
        "# df.shape\n",
        "# df.info()\n",
        "# df=df.dropna()\n",
        "df.iloc[:int(len(df)*0.70)].head(5).reset_index().drop(columns='index')\n",
        "# df.quantile(0.25)\n",
        "df.describe()\n",
        "# df.loc[df[']'25%']\n",
        "print(int(df['f1'].quantile(.25)))\n",
        "print(int(df['age'].quantile(.25)))\n"
      ],
      "metadata": {
        "id": "_OL4CPBxHd71",
        "outputId": "f1a6a186-358c-48aa-afa4-9f57bef46da6",
        "colab": {
          "base_uri": "https://localhost:8080/"
        }
      },
      "execution_count": 38,
      "outputs": [
        {
          "output_type": "stream",
          "name": "stdout",
          "text": [
            "57\n",
            "30\n"
          ]
        }
      ]
    },
    {
      "cell_type": "code",
      "source": [
        "df.iloc[:int(len(df)*0.70), :].head(5)"
      ],
      "metadata": {
        "id": "aIxZJ3QrJnQd",
        "outputId": "03a2998b-eff4-41e9-98ab-d09cb24eb818",
        "colab": {
          "base_uri": "https://localhost:8080/",
          "height": 206
        }
      },
      "execution_count": 24,
      "outputs": [
        {
          "output_type": "execute_result",
          "data": {
            "text/plain": [
              "       id   age city     f1  f2      f3    f4         f5  subscribed    views\n",
              "2    id03  27.0   서울   61.0   1    gold  ISTJ  17.252986  2021-03-16   7312.0\n",
              "5    id06  22.0   서울   57.0   0     vip  INTP  20.129444  2021-09-12  21550.0\n",
              "7    id08  38.0   서울  101.0   1  silver  INFJ  83.685380  2021-03-06   3260.0\n",
              "9    id10  95.0   서울   74.0   1    gold  ISFP  98.429899  2021-04-03   9992.0\n",
              "10  id100  47.0   경기   53.0   0     vip  ESFP  33.308999  2021-02-21  15535.0"
            ],
            "text/html": [
              "\n",
              "  <div id=\"df-c3aade4d-47af-42ad-96c1-02334973dcf4\" class=\"colab-df-container\">\n",
              "    <div>\n",
              "<style scoped>\n",
              "    .dataframe tbody tr th:only-of-type {\n",
              "        vertical-align: middle;\n",
              "    }\n",
              "\n",
              "    .dataframe tbody tr th {\n",
              "        vertical-align: top;\n",
              "    }\n",
              "\n",
              "    .dataframe thead th {\n",
              "        text-align: right;\n",
              "    }\n",
              "</style>\n",
              "<table border=\"1\" class=\"dataframe\">\n",
              "  <thead>\n",
              "    <tr style=\"text-align: right;\">\n",
              "      <th></th>\n",
              "      <th>id</th>\n",
              "      <th>age</th>\n",
              "      <th>city</th>\n",
              "      <th>f1</th>\n",
              "      <th>f2</th>\n",
              "      <th>f3</th>\n",
              "      <th>f4</th>\n",
              "      <th>f5</th>\n",
              "      <th>subscribed</th>\n",
              "      <th>views</th>\n",
              "    </tr>\n",
              "  </thead>\n",
              "  <tbody>\n",
              "    <tr>\n",
              "      <th>2</th>\n",
              "      <td>id03</td>\n",
              "      <td>27.0</td>\n",
              "      <td>서울</td>\n",
              "      <td>61.0</td>\n",
              "      <td>1</td>\n",
              "      <td>gold</td>\n",
              "      <td>ISTJ</td>\n",
              "      <td>17.252986</td>\n",
              "      <td>2021-03-16</td>\n",
              "      <td>7312.0</td>\n",
              "    </tr>\n",
              "    <tr>\n",
              "      <th>5</th>\n",
              "      <td>id06</td>\n",
              "      <td>22.0</td>\n",
              "      <td>서울</td>\n",
              "      <td>57.0</td>\n",
              "      <td>0</td>\n",
              "      <td>vip</td>\n",
              "      <td>INTP</td>\n",
              "      <td>20.129444</td>\n",
              "      <td>2021-09-12</td>\n",
              "      <td>21550.0</td>\n",
              "    </tr>\n",
              "    <tr>\n",
              "      <th>7</th>\n",
              "      <td>id08</td>\n",
              "      <td>38.0</td>\n",
              "      <td>서울</td>\n",
              "      <td>101.0</td>\n",
              "      <td>1</td>\n",
              "      <td>silver</td>\n",
              "      <td>INFJ</td>\n",
              "      <td>83.685380</td>\n",
              "      <td>2021-03-06</td>\n",
              "      <td>3260.0</td>\n",
              "    </tr>\n",
              "    <tr>\n",
              "      <th>9</th>\n",
              "      <td>id10</td>\n",
              "      <td>95.0</td>\n",
              "      <td>서울</td>\n",
              "      <td>74.0</td>\n",
              "      <td>1</td>\n",
              "      <td>gold</td>\n",
              "      <td>ISFP</td>\n",
              "      <td>98.429899</td>\n",
              "      <td>2021-04-03</td>\n",
              "      <td>9992.0</td>\n",
              "    </tr>\n",
              "    <tr>\n",
              "      <th>10</th>\n",
              "      <td>id100</td>\n",
              "      <td>47.0</td>\n",
              "      <td>경기</td>\n",
              "      <td>53.0</td>\n",
              "      <td>0</td>\n",
              "      <td>vip</td>\n",
              "      <td>ESFP</td>\n",
              "      <td>33.308999</td>\n",
              "      <td>2021-02-21</td>\n",
              "      <td>15535.0</td>\n",
              "    </tr>\n",
              "  </tbody>\n",
              "</table>\n",
              "</div>\n",
              "    <div class=\"colab-df-buttons\">\n",
              "\n",
              "  <div class=\"colab-df-container\">\n",
              "    <button class=\"colab-df-convert\" onclick=\"convertToInteractive('df-c3aade4d-47af-42ad-96c1-02334973dcf4')\"\n",
              "            title=\"Convert this dataframe to an interactive table.\"\n",
              "            style=\"display:none;\">\n",
              "\n",
              "  <svg xmlns=\"http://www.w3.org/2000/svg\" height=\"24px\" viewBox=\"0 -960 960 960\">\n",
              "    <path d=\"M120-120v-720h720v720H120Zm60-500h600v-160H180v160Zm220 220h160v-160H400v160Zm0 220h160v-160H400v160ZM180-400h160v-160H180v160Zm440 0h160v-160H620v160ZM180-180h160v-160H180v160Zm440 0h160v-160H620v160Z\"/>\n",
              "  </svg>\n",
              "    </button>\n",
              "\n",
              "  <style>\n",
              "    .colab-df-container {\n",
              "      display:flex;\n",
              "      gap: 12px;\n",
              "    }\n",
              "\n",
              "    .colab-df-convert {\n",
              "      background-color: #E8F0FE;\n",
              "      border: none;\n",
              "      border-radius: 50%;\n",
              "      cursor: pointer;\n",
              "      display: none;\n",
              "      fill: #1967D2;\n",
              "      height: 32px;\n",
              "      padding: 0 0 0 0;\n",
              "      width: 32px;\n",
              "    }\n",
              "\n",
              "    .colab-df-convert:hover {\n",
              "      background-color: #E2EBFA;\n",
              "      box-shadow: 0px 1px 2px rgba(60, 64, 67, 0.3), 0px 1px 3px 1px rgba(60, 64, 67, 0.15);\n",
              "      fill: #174EA6;\n",
              "    }\n",
              "\n",
              "    .colab-df-buttons div {\n",
              "      margin-bottom: 4px;\n",
              "    }\n",
              "\n",
              "    [theme=dark] .colab-df-convert {\n",
              "      background-color: #3B4455;\n",
              "      fill: #D2E3FC;\n",
              "    }\n",
              "\n",
              "    [theme=dark] .colab-df-convert:hover {\n",
              "      background-color: #434B5C;\n",
              "      box-shadow: 0px 1px 3px 1px rgba(0, 0, 0, 0.15);\n",
              "      filter: drop-shadow(0px 1px 2px rgba(0, 0, 0, 0.3));\n",
              "      fill: #FFFFFF;\n",
              "    }\n",
              "  </style>\n",
              "\n",
              "    <script>\n",
              "      const buttonEl =\n",
              "        document.querySelector('#df-c3aade4d-47af-42ad-96c1-02334973dcf4 button.colab-df-convert');\n",
              "      buttonEl.style.display =\n",
              "        google.colab.kernel.accessAllowed ? 'block' : 'none';\n",
              "\n",
              "      async function convertToInteractive(key) {\n",
              "        const element = document.querySelector('#df-c3aade4d-47af-42ad-96c1-02334973dcf4');\n",
              "        const dataTable =\n",
              "          await google.colab.kernel.invokeFunction('convertToInteractive',\n",
              "                                                    [key], {});\n",
              "        if (!dataTable) return;\n",
              "\n",
              "        const docLinkHtml = 'Like what you see? Visit the ' +\n",
              "          '<a target=\"_blank\" href=https://colab.research.google.com/notebooks/data_table.ipynb>data table notebook</a>'\n",
              "          + ' to learn more about interactive tables.';\n",
              "        element.innerHTML = '';\n",
              "        dataTable['output_type'] = 'display_data';\n",
              "        await google.colab.output.renderOutput(dataTable, element);\n",
              "        const docLink = document.createElement('div');\n",
              "        docLink.innerHTML = docLinkHtml;\n",
              "        element.appendChild(docLink);\n",
              "      }\n",
              "    </script>\n",
              "  </div>\n",
              "\n",
              "\n",
              "    <div id=\"df-1f8a7f5b-0fca-4977-9f69-21f2e2d34455\">\n",
              "      <button class=\"colab-df-quickchart\" onclick=\"quickchart('df-1f8a7f5b-0fca-4977-9f69-21f2e2d34455')\"\n",
              "                title=\"Suggest charts\"\n",
              "                style=\"display:none;\">\n",
              "\n",
              "<svg xmlns=\"http://www.w3.org/2000/svg\" height=\"24px\"viewBox=\"0 0 24 24\"\n",
              "     width=\"24px\">\n",
              "    <g>\n",
              "        <path d=\"M19 3H5c-1.1 0-2 .9-2 2v14c0 1.1.9 2 2 2h14c1.1 0 2-.9 2-2V5c0-1.1-.9-2-2-2zM9 17H7v-7h2v7zm4 0h-2V7h2v10zm4 0h-2v-4h2v4z\"/>\n",
              "    </g>\n",
              "</svg>\n",
              "      </button>\n",
              "\n",
              "<style>\n",
              "  .colab-df-quickchart {\n",
              "      --bg-color: #E8F0FE;\n",
              "      --fill-color: #1967D2;\n",
              "      --hover-bg-color: #E2EBFA;\n",
              "      --hover-fill-color: #174EA6;\n",
              "      --disabled-fill-color: #AAA;\n",
              "      --disabled-bg-color: #DDD;\n",
              "  }\n",
              "\n",
              "  [theme=dark] .colab-df-quickchart {\n",
              "      --bg-color: #3B4455;\n",
              "      --fill-color: #D2E3FC;\n",
              "      --hover-bg-color: #434B5C;\n",
              "      --hover-fill-color: #FFFFFF;\n",
              "      --disabled-bg-color: #3B4455;\n",
              "      --disabled-fill-color: #666;\n",
              "  }\n",
              "\n",
              "  .colab-df-quickchart {\n",
              "    background-color: var(--bg-color);\n",
              "    border: none;\n",
              "    border-radius: 50%;\n",
              "    cursor: pointer;\n",
              "    display: none;\n",
              "    fill: var(--fill-color);\n",
              "    height: 32px;\n",
              "    padding: 0;\n",
              "    width: 32px;\n",
              "  }\n",
              "\n",
              "  .colab-df-quickchart:hover {\n",
              "    background-color: var(--hover-bg-color);\n",
              "    box-shadow: 0 1px 2px rgba(60, 64, 67, 0.3), 0 1px 3px 1px rgba(60, 64, 67, 0.15);\n",
              "    fill: var(--button-hover-fill-color);\n",
              "  }\n",
              "\n",
              "  .colab-df-quickchart-complete:disabled,\n",
              "  .colab-df-quickchart-complete:disabled:hover {\n",
              "    background-color: var(--disabled-bg-color);\n",
              "    fill: var(--disabled-fill-color);\n",
              "    box-shadow: none;\n",
              "  }\n",
              "\n",
              "  .colab-df-spinner {\n",
              "    border: 2px solid var(--fill-color);\n",
              "    border-color: transparent;\n",
              "    border-bottom-color: var(--fill-color);\n",
              "    animation:\n",
              "      spin 1s steps(1) infinite;\n",
              "  }\n",
              "\n",
              "  @keyframes spin {\n",
              "    0% {\n",
              "      border-color: transparent;\n",
              "      border-bottom-color: var(--fill-color);\n",
              "      border-left-color: var(--fill-color);\n",
              "    }\n",
              "    20% {\n",
              "      border-color: transparent;\n",
              "      border-left-color: var(--fill-color);\n",
              "      border-top-color: var(--fill-color);\n",
              "    }\n",
              "    30% {\n",
              "      border-color: transparent;\n",
              "      border-left-color: var(--fill-color);\n",
              "      border-top-color: var(--fill-color);\n",
              "      border-right-color: var(--fill-color);\n",
              "    }\n",
              "    40% {\n",
              "      border-color: transparent;\n",
              "      border-right-color: var(--fill-color);\n",
              "      border-top-color: var(--fill-color);\n",
              "    }\n",
              "    60% {\n",
              "      border-color: transparent;\n",
              "      border-right-color: var(--fill-color);\n",
              "    }\n",
              "    80% {\n",
              "      border-color: transparent;\n",
              "      border-right-color: var(--fill-color);\n",
              "      border-bottom-color: var(--fill-color);\n",
              "    }\n",
              "    90% {\n",
              "      border-color: transparent;\n",
              "      border-bottom-color: var(--fill-color);\n",
              "    }\n",
              "  }\n",
              "</style>\n",
              "\n",
              "      <script>\n",
              "        async function quickchart(key) {\n",
              "          const quickchartButtonEl =\n",
              "            document.querySelector('#' + key + ' button');\n",
              "          quickchartButtonEl.disabled = true;  // To prevent multiple clicks.\n",
              "          quickchartButtonEl.classList.add('colab-df-spinner');\n",
              "          try {\n",
              "            const charts = await google.colab.kernel.invokeFunction(\n",
              "                'suggestCharts', [key], {});\n",
              "          } catch (error) {\n",
              "            console.error('Error during call to suggestCharts:', error);\n",
              "          }\n",
              "          quickchartButtonEl.classList.remove('colab-df-spinner');\n",
              "          quickchartButtonEl.classList.add('colab-df-quickchart-complete');\n",
              "        }\n",
              "        (() => {\n",
              "          let quickchartButtonEl =\n",
              "            document.querySelector('#df-1f8a7f5b-0fca-4977-9f69-21f2e2d34455 button');\n",
              "          quickchartButtonEl.style.display =\n",
              "            google.colab.kernel.accessAllowed ? 'block' : 'none';\n",
              "        })();\n",
              "      </script>\n",
              "    </div>\n",
              "\n",
              "    </div>\n",
              "  </div>\n"
            ],
            "application/vnd.google.colaboratory.intrinsic+json": {
              "type": "dataframe",
              "repr_error": "0"
            }
          },
          "metadata": {},
          "execution_count": 24
        }
      ]
    },
    {
      "cell_type": "markdown",
      "source": [
        "### 문제2"
      ],
      "metadata": {
        "id": "ccvjEw-aKy39"
      }
    },
    {
      "cell_type": "code",
      "source": [
        "# 방법1\n",
        "import pandas as pd\n",
        "# df = pd.read_csv('year.csv', index_col='Unnamed: 0')\n",
        "df = pd.read_csv('https://raw.githubusercontent.com/lovedlim/bigdata_analyst_cert/main/part4/ch3/year.csv', index_col='Unnamed: 0')\n",
        "\n",
        "# 1) 행을 기준으로 평균을 계산\n",
        "m = df.loc[2000].mean()\n",
        "\n",
        "# 2) 평균보다 큰 값의 합 계산\n",
        "print(sum(df.loc[2000,:] > m))"
      ],
      "metadata": {
        "colab": {
          "base_uri": "https://localhost:8080/"
        },
        "id": "-3VwHCDKKjRl",
        "outputId": "73626033-b466-4dcf-8ad7-367950ec7039"
      },
      "execution_count": 52,
      "outputs": [
        {
          "output_type": "stream",
          "name": "stdout",
          "text": [
            "100\n"
          ]
        }
      ]
    },
    {
      "cell_type": "code",
      "source": [
        "df.info()\n",
        "df.shape\n",
        "m= df.loc[2000].mean()\n",
        "sum(df.loc[2000,:]> m)"
      ],
      "metadata": {
        "id": "nRYhe238MBI4",
        "outputId": "3482a841-641b-4832-e42e-0018a0055d00",
        "colab": {
          "base_uri": "https://localhost:8080/"
        }
      },
      "execution_count": 53,
      "outputs": [
        {
          "output_type": "stream",
          "name": "stdout",
          "text": [
            "<class 'pandas.core.frame.DataFrame'>\n",
            "Index: 3 entries, 1999 to 2001\n",
            "Columns: 200 entries, 0 to 199\n",
            "dtypes: int64(200)\n",
            "memory usage: 4.8 KB\n"
          ]
        },
        {
          "output_type": "execute_result",
          "data": {
            "text/plain": [
              "100"
            ]
          },
          "metadata": {},
          "execution_count": 53
        }
      ]
    },
    {
      "cell_type": "code",
      "source": [
        "# 방법2\n",
        "# df = pd.read_csv('year.csv', index_col='Unnamed: 0')\n",
        "df = pd.read_csv('https://raw.githubusercontent.com/lovedlim/bigdata_analyst_cert/main/part4/ch3/year.csv', index_col='Unnamed: 0')\n",
        "\n",
        "# 1) 행과 열을 변경함\n",
        "df = df.T\n",
        "\n",
        "# 2) 평균 계산\n",
        "m = df[2000].mean()\n",
        "\n",
        "# 3) 평균보다 큰 값의 합 계산\n",
        "print(sum(df[2000] > m))"
      ],
      "metadata": {
        "colab": {
          "base_uri": "https://localhost:8080/"
        },
        "id": "iYnbTrVNYbjs",
        "outputId": "7fe122a7-a95a-4e8b-a184-418406fc4009"
      },
      "execution_count": 64,
      "outputs": [
        {
          "output_type": "stream",
          "name": "stdout",
          "text": [
            "100\n"
          ]
        }
      ]
    },
    {
      "cell_type": "code",
      "source": [
        "m= df[2000].mean()\n",
        "sum(df[2000]>m)"
      ],
      "metadata": {
        "id": "fpMYBuI0NYiM",
        "outputId": "5008bb5a-db05-477e-c65e-2a846b563a66",
        "colab": {
          "base_uri": "https://localhost:8080/"
        }
      },
      "execution_count": 61,
      "outputs": [
        {
          "output_type": "execute_result",
          "data": {
            "text/plain": [
              "100"
            ]
          },
          "metadata": {},
          "execution_count": 61
        }
      ]
    },
    {
      "cell_type": "markdown",
      "source": [
        "### 문제3"
      ],
      "metadata": {
        "id": "U2rmG2jaK_v3"
      }
    },
    {
      "cell_type": "code",
      "source": [
        "# 방법1\n",
        "import pandas as pd\n",
        "# df = pd.read_csv(\"members.csv\")\n",
        "df = pd.read_csv(\"https://raw.githubusercontent.com/lovedlim/bigdata_analyst_cert/main/part4/ch3/members.csv\")\n",
        "\n",
        "# 1) 결측치 수 컬럼별로 확인 및 변수에 대입(시리즈)\n",
        "df_cntNull = df.isnull().sum()\n",
        "\n",
        "# 2) 내림차순 정렬\n",
        "df_cntNull = df_cntNull.sort_values(ascending=False)\n",
        "\n",
        "# 3) 가장 상위에 있는 인덱스명 출력\n",
        "print(df_cntNull.index[0])"
      ],
      "metadata": {
        "id": "WgzH-3yB6I26",
        "colab": {
          "base_uri": "https://localhost:8080/"
        },
        "outputId": "f9a10ce2-e695-4258-b130-fcd7b91bde2d"
      },
      "execution_count": 65,
      "outputs": [
        {
          "output_type": "stream",
          "name": "stdout",
          "text": [
            "f1\n"
          ]
        }
      ]
    },
    {
      "cell_type": "code",
      "source": [
        "a= df.isnull().sum()\n",
        "a.sort_values(ascending=False).index[0]"
      ],
      "metadata": {
        "id": "McCDdiMgOULJ",
        "outputId": "37d88976-eca2-4a28-e740-e948bb4f9e32",
        "colab": {
          "base_uri": "https://localhost:8080/",
          "height": 36
        }
      },
      "execution_count": 73,
      "outputs": [
        {
          "output_type": "execute_result",
          "data": {
            "text/plain": [
              "'f1'"
            ],
            "application/vnd.google.colaboratory.intrinsic+json": {
              "type": "string"
            }
          },
          "metadata": {},
          "execution_count": 73
        }
      ]
    },
    {
      "cell_type": "code",
      "source": [],
      "metadata": {
        "id": "7STYc72FOTIq"
      },
      "execution_count": null,
      "outputs": []
    },
    {
      "cell_type": "code",
      "source": [
        "# 방법2\n",
        "# df = pd.read_csv(\"members.csv\")\n",
        "df = pd.read_csv(\"https://raw.githubusercontent.com/lovedlim/bigdata_analyst_cert/main/part4/ch3/members.csv\")\n",
        "\n",
        "# 1) 결측치 수 컬럼별로 확인 및 변수에 대입(시리즈)\n",
        "df_cntNull = df.isnull().sum()\n",
        "\n",
        "# 2) 인덱스 리셋를 활용해 기존 인덱스는 새로운 컬럼으로 변경)\n",
        "df_cntNull = df_cntNull.reset_index()\n",
        "\n",
        "# 3) 출력하고자하는 값을 찾아 출력\n",
        "print(df_cntNull.loc[3, 'index'])"
      ],
      "metadata": {
        "id": "L9JYUM9N9u_z",
        "colab": {
          "base_uri": "https://localhost:8080/"
        },
        "outputId": "e8760e98-97fe-4b9b-cf52-c91b1632c3d4"
      },
      "execution_count": 74,
      "outputs": [
        {
          "output_type": "stream",
          "name": "stdout",
          "text": [
            "f1\n"
          ]
        }
      ]
    },
    {
      "cell_type": "code",
      "source": [
        "a=df.isnull().sum().reset_index()\n",
        "a.head()\n",
        "a.loc[3,'index']"
      ],
      "metadata": {
        "id": "l1qzpYlKPMq6",
        "outputId": "9fe12d5c-dff4-4a97-831d-2b64d533f9af",
        "colab": {
          "base_uri": "https://localhost:8080/",
          "height": 36
        }
      },
      "execution_count": 80,
      "outputs": [
        {
          "output_type": "execute_result",
          "data": {
            "text/plain": [
              "'f1'"
            ],
            "application/vnd.google.colaboratory.intrinsic+json": {
              "type": "string"
            }
          },
          "metadata": {},
          "execution_count": 80
        }
      ]
    }
  ]
}